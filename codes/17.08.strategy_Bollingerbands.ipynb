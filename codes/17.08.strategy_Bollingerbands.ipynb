{
 "cells": [
  {
   "cell_type": "markdown",
   "metadata": {},
   "source": [
    "## 볼린져 밴드\n",
    "- 이동 평균 기준으로 상단과 하단 밴드활용\n",
    "- BBand = 중심선 +(-) K * 표준편차\n",
    "- 매매 시점 상단 돌파 - 과매수 상태,\n",
    "- 매수 시점 하단 돌파 - 과매도 상태\n"
   ]
  },
  {
   "cell_type": "code",
   "execution_count": null,
   "metadata": {},
   "outputs": [],
   "source": []
  }
 ],
 "metadata": {
  "kernelspec": {
   "display_name": "Python 3",
   "language": "python",
   "name": "python3"
  },
  "language_info": {
   "name": "python",
   "version": "3.11.11"
  }
 },
 "nbformat": 4,
 "nbformat_minor": 2
}
