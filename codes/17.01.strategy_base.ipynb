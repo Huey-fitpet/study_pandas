{
 "cells": [
  {
   "cell_type": "markdown",
   "metadata": {},
   "source": [
    "### 시장 수익률(복리 연평균 성장률) - CAGR(Compound Annual Growth Rate)\n",
    "- 기간 + 물가 지수\n",
    "- $시장 수익률 = 수익률 **(1/투자기간) - 1$"
   ]
  },
  {
   "cell_type": "code",
   "execution_count": 1,
   "metadata": {},
   "outputs": [],
   "source": [
    "import pandas as pd "
   ]
  },
  {
   "cell_type": "code",
   "execution_count": 2,
   "metadata": {},
   "outputs": [
    {
     "data": {
      "text/html": [
       "<div>\n",
       "<style scoped>\n",
       "    .dataframe tbody tr th:only-of-type {\n",
       "        vertical-align: middle;\n",
       "    }\n",
       "\n",
       "    .dataframe tbody tr th {\n",
       "        vertical-align: top;\n",
       "    }\n",
       "\n",
       "    .dataframe thead th {\n",
       "        text-align: right;\n",
       "    }\n",
       "</style>\n",
       "<table border=\"1\" class=\"dataframe\">\n",
       "  <thead>\n",
       "    <tr style=\"text-align: right;\">\n",
       "      <th></th>\n",
       "      <th>Open</th>\n",
       "      <th>High</th>\n",
       "      <th>Low</th>\n",
       "      <th>Close</th>\n",
       "      <th>Volume</th>\n",
       "      <th>Change</th>\n",
       "      <th>UpDown</th>\n",
       "      <th>Comp</th>\n",
       "      <th>Amount</th>\n",
       "      <th>MarCap</th>\n",
       "    </tr>\n",
       "    <tr>\n",
       "      <th>Date</th>\n",
       "      <th></th>\n",
       "      <th></th>\n",
       "      <th></th>\n",
       "      <th></th>\n",
       "      <th></th>\n",
       "      <th></th>\n",
       "      <th></th>\n",
       "      <th></th>\n",
       "      <th></th>\n",
       "      <th></th>\n",
       "    </tr>\n",
       "  </thead>\n",
       "  <tbody>\n",
       "    <tr>\n",
       "      <th>2021-01-04</th>\n",
       "      <td>2874.50</td>\n",
       "      <td>2946.54</td>\n",
       "      <td>2869.11</td>\n",
       "      <td>2944.45</td>\n",
       "      <td>1026510465</td>\n",
       "      <td>0.0247</td>\n",
       "      <td>1</td>\n",
       "      <td>70.98</td>\n",
       "      <td>25011393960858</td>\n",
       "      <td>2028846031822322</td>\n",
       "    </tr>\n",
       "    <tr>\n",
       "      <th>2021-01-05</th>\n",
       "      <td>2943.67</td>\n",
       "      <td>2990.57</td>\n",
       "      <td>2921.84</td>\n",
       "      <td>2990.57</td>\n",
       "      <td>1519911750</td>\n",
       "      <td>0.0157</td>\n",
       "      <td>1</td>\n",
       "      <td>46.12</td>\n",
       "      <td>26548380179493</td>\n",
       "      <td>2059743507955076</td>\n",
       "    </tr>\n",
       "    <tr>\n",
       "      <th>2021-01-06</th>\n",
       "      <td>2993.34</td>\n",
       "      <td>3027.16</td>\n",
       "      <td>2961.37</td>\n",
       "      <td>2968.21</td>\n",
       "      <td>1793418534</td>\n",
       "      <td>-0.0075</td>\n",
       "      <td>2</td>\n",
       "      <td>-22.36</td>\n",
       "      <td>29909396443430</td>\n",
       "      <td>2044102754101965</td>\n",
       "    </tr>\n",
       "    <tr>\n",
       "      <th>2021-01-07</th>\n",
       "      <td>2980.75</td>\n",
       "      <td>3055.28</td>\n",
       "      <td>2980.75</td>\n",
       "      <td>3031.68</td>\n",
       "      <td>1524654500</td>\n",
       "      <td>0.0214</td>\n",
       "      <td>1</td>\n",
       "      <td>63.47</td>\n",
       "      <td>27182807334912</td>\n",
       "      <td>2086578562420457</td>\n",
       "    </tr>\n",
       "    <tr>\n",
       "      <th>2021-01-08</th>\n",
       "      <td>3040.11</td>\n",
       "      <td>3161.11</td>\n",
       "      <td>3040.11</td>\n",
       "      <td>3152.18</td>\n",
       "      <td>1297903388</td>\n",
       "      <td>0.0397</td>\n",
       "      <td>1</td>\n",
       "      <td>120.50</td>\n",
       "      <td>40909490005818</td>\n",
       "      <td>2170537648432200</td>\n",
       "    </tr>\n",
       "  </tbody>\n",
       "</table>\n",
       "</div>"
      ],
      "text/plain": [
       "               Open     High      Low    Close      Volume  Change  UpDown  \\\n",
       "Date                                                                         \n",
       "2021-01-04  2874.50  2946.54  2869.11  2944.45  1026510465  0.0247       1   \n",
       "2021-01-05  2943.67  2990.57  2921.84  2990.57  1519911750  0.0157       1   \n",
       "2021-01-06  2993.34  3027.16  2961.37  2968.21  1793418534 -0.0075       2   \n",
       "2021-01-07  2980.75  3055.28  2980.75  3031.68  1524654500  0.0214       1   \n",
       "2021-01-08  3040.11  3161.11  3040.11  3152.18  1297903388  0.0397       1   \n",
       "\n",
       "              Comp          Amount            MarCap  \n",
       "Date                                                  \n",
       "2021-01-04   70.98  25011393960858  2028846031822322  \n",
       "2021-01-05   46.12  26548380179493  2059743507955076  \n",
       "2021-01-06  -22.36  29909396443430  2044102754101965  \n",
       "2021-01-07   63.47  27182807334912  2086578562420457  \n",
       "2021-01-08  120.50  40909490005818  2170537648432200  "
      ]
     },
     "execution_count": 2,
     "metadata": {},
     "output_type": "execute_result"
    }
   ],
   "source": [
    "# data => dataframe => matplot\n",
    "# api \n",
    "import FinanceDataReader as fdr\n",
    "\n",
    "kospi = fdr.DataReader('KS11', '2021', '2022') \n",
    "kospi.head()"
   ]
  },
  {
   "cell_type": "code",
   "execution_count": 3,
   "metadata": {},
   "outputs": [
    {
     "name": "stdout",
     "output_type": "stream",
     "text": [
      "<class 'pandas.core.frame.DataFrame'>\n",
      "DatetimeIndex: 248 entries, 2021-01-04 to 2021-12-30\n",
      "Data columns (total 10 columns):\n",
      " #   Column  Non-Null Count  Dtype  \n",
      "---  ------  --------------  -----  \n",
      " 0   Open    248 non-null    float64\n",
      " 1   High    248 non-null    float64\n",
      " 2   Low     248 non-null    float64\n",
      " 3   Close   248 non-null    float64\n",
      " 4   Volume  248 non-null    int64  \n",
      " 5   Change  248 non-null    float64\n",
      " 6   UpDown  248 non-null    int64  \n",
      " 7   Comp    248 non-null    float64\n",
      " 8   Amount  248 non-null    int64  \n",
      " 9   MarCap  248 non-null    int64  \n",
      "dtypes: float64(6), int64(4)\n",
      "memory usage: 21.3 KB\n"
     ]
    }
   ],
   "source": [
    "kospi.info()"
   ]
  },
  {
   "cell_type": "code",
   "execution_count": 4,
   "metadata": {},
   "outputs": [
    {
     "data": {
      "text/plain": [
       "DatetimeIndex(['2021-01-04', '2021-01-05', '2021-01-06', '2021-01-07',\n",
       "               '2021-01-08', '2021-01-11', '2021-01-12', '2021-01-13',\n",
       "               '2021-01-14', '2021-01-15',\n",
       "               ...\n",
       "               '2021-12-17', '2021-12-20', '2021-12-21', '2021-12-22',\n",
       "               '2021-12-23', '2021-12-24', '2021-12-27', '2021-12-28',\n",
       "               '2021-12-29', '2021-12-30'],\n",
       "              dtype='datetime64[ns]', name='Date', length=248, freq=None)"
      ]
     },
     "execution_count": 4,
     "metadata": {},
     "output_type": "execute_result"
    }
   ],
   "source": [
    "kospi.index"
   ]
  },
  {
   "cell_type": "code",
   "execution_count": 5,
   "metadata": {},
   "outputs": [
    {
     "data": {
      "text/plain": [
       "(Timedelta('360 days 00:00:00'), pandas._libs.tslibs.timedeltas.Timedelta, 360)"
      ]
     },
     "execution_count": 5,
     "metadata": {},
     "output_type": "execute_result"
    }
   ],
   "source": [
    "# kospi.iloc[0,3] 매수 시점의 종가\n",
    "# kospi.iloc[-1,3] 매도 시점의 종가\n",
    "# 수익률 = 매도 가격 / 매수 가격\n",
    "rate_of_return = kospi.iloc[-1,3] / kospi.iloc[0,3]\n",
    "\n",
    "# 투자 기간\n",
    "diff_date =  kospi.index[-1] - kospi.index[0]\n",
    "diff_date, type(diff_date), diff_date.days\n"
   ]
  },
  {
   "cell_type": "code",
   "execution_count": 6,
   "metadata": {},
   "outputs": [
    {
     "data": {
      "text/plain": [
       "0.011432945752259283"
      ]
     },
     "execution_count": 6,
     "metadata": {},
     "output_type": "execute_result"
    }
   ],
   "source": [
    "# 시장 수익률 (복리 포함) 복리 연평균 성향율\n",
    "cagr = rate_of_return**(1/(diff_date.days/365)) - 1\n",
    "cagr"
   ]
  },
  {
   "cell_type": "markdown",
   "metadata": {},
   "source": [
    "### 숫자 만큼 분류"
   ]
  },
  {
   "cell_type": "code",
   "execution_count": 7,
   "metadata": {},
   "outputs": [],
   "source": [
    "# 예제 데이터: 나이 리스트 \n",
    "ages = [5, 12, 17, 18, 24, 35, 45, 64, 75] # 나이를 구간으로 나누기 \n",
    "bins = [0, 12, 19, 35, 60, 100] # 구간 정의 \n",
    "labels = ['어린이', '청소년', '청년', '중장년', '노년'] # 각 구간에 붙일 라벨"
   ]
  },
  {
   "cell_type": "code",
   "execution_count": 10,
   "metadata": {},
   "outputs": [],
   "source": [
    "age_groups = pd.cut(ages, bins=bins, labels=labels)"
   ]
  },
  {
   "cell_type": "code",
   "execution_count": 11,
   "metadata": {},
   "outputs": [
    {
     "data": {
      "text/html": [
       "<div>\n",
       "<style scoped>\n",
       "    .dataframe tbody tr th:only-of-type {\n",
       "        vertical-align: middle;\n",
       "    }\n",
       "\n",
       "    .dataframe tbody tr th {\n",
       "        vertical-align: top;\n",
       "    }\n",
       "\n",
       "    .dataframe thead th {\n",
       "        text-align: right;\n",
       "    }\n",
       "</style>\n",
       "<table border=\"1\" class=\"dataframe\">\n",
       "  <thead>\n",
       "    <tr style=\"text-align: right;\">\n",
       "      <th></th>\n",
       "      <th>나이</th>\n",
       "      <th>연령대</th>\n",
       "    </tr>\n",
       "  </thead>\n",
       "  <tbody>\n",
       "    <tr>\n",
       "      <th>0</th>\n",
       "      <td>5</td>\n",
       "      <td>어린이</td>\n",
       "    </tr>\n",
       "    <tr>\n",
       "      <th>1</th>\n",
       "      <td>12</td>\n",
       "      <td>어린이</td>\n",
       "    </tr>\n",
       "    <tr>\n",
       "      <th>2</th>\n",
       "      <td>17</td>\n",
       "      <td>청소년</td>\n",
       "    </tr>\n",
       "    <tr>\n",
       "      <th>3</th>\n",
       "      <td>18</td>\n",
       "      <td>청소년</td>\n",
       "    </tr>\n",
       "    <tr>\n",
       "      <th>4</th>\n",
       "      <td>24</td>\n",
       "      <td>청년</td>\n",
       "    </tr>\n",
       "    <tr>\n",
       "      <th>5</th>\n",
       "      <td>35</td>\n",
       "      <td>청년</td>\n",
       "    </tr>\n",
       "    <tr>\n",
       "      <th>6</th>\n",
       "      <td>45</td>\n",
       "      <td>중장년</td>\n",
       "    </tr>\n",
       "    <tr>\n",
       "      <th>7</th>\n",
       "      <td>64</td>\n",
       "      <td>노년</td>\n",
       "    </tr>\n",
       "    <tr>\n",
       "      <th>8</th>\n",
       "      <td>75</td>\n",
       "      <td>노년</td>\n",
       "    </tr>\n",
       "  </tbody>\n",
       "</table>\n",
       "</div>"
      ],
      "text/plain": [
       "   나이  연령대\n",
       "0   5  어린이\n",
       "1  12  어린이\n",
       "2  17  청소년\n",
       "3  18  청소년\n",
       "4  24   청년\n",
       "5  35   청년\n",
       "6  45  중장년\n",
       "7  64   노년\n",
       "8  75   노년"
      ]
     },
     "execution_count": 11,
     "metadata": {},
     "output_type": "execute_result"
    }
   ],
   "source": [
    "data = {'나이':ages, '연령대':age_groups}\n",
    "pd.DataFrame(data)"
   ]
  },
  {
   "cell_type": "markdown",
   "metadata": {},
   "source": [
    "#### bins 숫자 입력"
   ]
  },
  {
   "cell_type": "code",
   "execution_count": 13,
   "metadata": {},
   "outputs": [
    {
     "data": {
      "text/plain": [
       "['청소년', '청소년', '청소년', '청소년', '청소년', '청년', '청년', '중장년', '중장년']\n",
       "Categories (3, object): ['청소년' < '청년' < '중장년']"
      ]
     },
     "execution_count": 13,
     "metadata": {},
     "output_type": "execute_result"
    }
   ],
   "source": [
    "bin = 3\n",
    "labels = ['청소년', '청년', '중장년']\n",
    "age_groups = pd.cut(ages, bins=bin, labels=labels)\n",
    "age_groups"
   ]
  }
 ],
 "metadata": {
  "kernelspec": {
   "display_name": "Python 3",
   "language": "python",
   "name": "python3"
  },
  "language_info": {
   "codemirror_mode": {
    "name": "ipython",
    "version": 3
   },
   "file_extension": ".py",
   "mimetype": "text/x-python",
   "name": "python",
   "nbconvert_exporter": "python",
   "pygments_lexer": "ipython3",
   "version": "3.11.11"
  }
 },
 "nbformat": 4,
 "nbformat_minor": 2
}
