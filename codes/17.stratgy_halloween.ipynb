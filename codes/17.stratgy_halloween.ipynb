{
 "cells": [
  {
   "cell_type": "markdown",
   "metadata": {},
   "source": [
    "## 주기성 투자 전략\n",
    "- 월, 분기, 연, 단위 변화 이용 전략 "
   ]
  },
  {
   "cell_type": "markdown",
   "metadata": {},
   "source": [
    "### 핼로윈 투자\n",
    "- 매수는 11월, 매도는 4월 "
   ]
  },
  {
   "cell_type": "code",
   "execution_count": 3,
   "metadata": {},
   "outputs": [
    {
     "data": {
      "text/html": [
       "<div>\n",
       "<style scoped>\n",
       "    .dataframe tbody tr th:only-of-type {\n",
       "        vertical-align: middle;\n",
       "    }\n",
       "\n",
       "    .dataframe tbody tr th {\n",
       "        vertical-align: top;\n",
       "    }\n",
       "\n",
       "    .dataframe thead th {\n",
       "        text-align: right;\n",
       "    }\n",
       "</style>\n",
       "<table border=\"1\" class=\"dataframe\">\n",
       "  <thead>\n",
       "    <tr style=\"text-align: right;\">\n",
       "      <th></th>\n",
       "      <th>Open</th>\n",
       "      <th>High</th>\n",
       "      <th>Low</th>\n",
       "      <th>Close</th>\n",
       "      <th>Volume</th>\n",
       "      <th>Adj Close</th>\n",
       "    </tr>\n",
       "  </thead>\n",
       "  <tbody>\n",
       "    <tr>\n",
       "      <th>2023-11-24</th>\n",
       "      <td>4555.839844</td>\n",
       "      <td>4560.310059</td>\n",
       "      <td>4552.799805</td>\n",
       "      <td>4559.339844</td>\n",
       "      <td>1639500000</td>\n",
       "      <td>4559.339844</td>\n",
       "    </tr>\n",
       "    <tr>\n",
       "      <th>2023-11-27</th>\n",
       "      <td>4554.859863</td>\n",
       "      <td>4560.520020</td>\n",
       "      <td>4546.319824</td>\n",
       "      <td>4550.430176</td>\n",
       "      <td>3403990000</td>\n",
       "      <td>4550.430176</td>\n",
       "    </tr>\n",
       "    <tr>\n",
       "      <th>2023-11-28</th>\n",
       "      <td>4545.549805</td>\n",
       "      <td>4568.140137</td>\n",
       "      <td>4540.509766</td>\n",
       "      <td>4554.890137</td>\n",
       "      <td>3586240000</td>\n",
       "      <td>4554.890137</td>\n",
       "    </tr>\n",
       "    <tr>\n",
       "      <th>2023-11-29</th>\n",
       "      <td>4571.839844</td>\n",
       "      <td>4587.640137</td>\n",
       "      <td>4547.149902</td>\n",
       "      <td>4550.580078</td>\n",
       "      <td>4418760000</td>\n",
       "      <td>4550.580078</td>\n",
       "    </tr>\n",
       "    <tr>\n",
       "      <th>2023-11-30</th>\n",
       "      <td>4554.870117</td>\n",
       "      <td>4569.890137</td>\n",
       "      <td>4537.240234</td>\n",
       "      <td>4567.799805</td>\n",
       "      <td>5399300000</td>\n",
       "      <td>4567.799805</td>\n",
       "    </tr>\n",
       "  </tbody>\n",
       "</table>\n",
       "</div>"
      ],
      "text/plain": [
       "                   Open         High          Low        Close      Volume  \\\n",
       "2023-11-24  4555.839844  4560.310059  4552.799805  4559.339844  1639500000   \n",
       "2023-11-27  4554.859863  4560.520020  4546.319824  4550.430176  3403990000   \n",
       "2023-11-28  4545.549805  4568.140137  4540.509766  4554.890137  3586240000   \n",
       "2023-11-29  4571.839844  4587.640137  4547.149902  4550.580078  4418760000   \n",
       "2023-11-30  4554.870117  4569.890137  4537.240234  4567.799805  5399300000   \n",
       "\n",
       "              Adj Close  \n",
       "2023-11-24  4559.339844  \n",
       "2023-11-27  4550.430176  \n",
       "2023-11-28  4554.890137  \n",
       "2023-11-29  4550.580078  \n",
       "2023-11-30  4567.799805  "
      ]
     },
     "execution_count": 3,
     "metadata": {},
     "output_type": "execute_result"
    }
   ],
   "source": [
    "import pandas as pd \n",
    "import FinanceDataReader as fdr\n",
    "\n",
    "snp500 = fdr.DataReader('S&P500', '2001', '2023-12') \n",
    "snp500.tail() # Adj Close 분할 하거나 했을 때 변경되는 종가 "
   ]
  },
  {
   "cell_type": "code",
   "execution_count": 4,
   "metadata": {},
   "outputs": [
    {
     "name": "stdout",
     "output_type": "stream",
     "text": [
      "<class 'pandas.core.frame.DataFrame'>\n",
      "DatetimeIndex: 5765 entries, 2001-01-02 to 2023-11-30\n",
      "Data columns (total 6 columns):\n",
      " #   Column     Non-Null Count  Dtype  \n",
      "---  ------     --------------  -----  \n",
      " 0   Open       5765 non-null   float64\n",
      " 1   High       5765 non-null   float64\n",
      " 2   Low        5765 non-null   float64\n",
      " 3   Close      5765 non-null   float64\n",
      " 4   Volume     5765 non-null   int64  \n",
      " 5   Adj Close  5765 non-null   float64\n",
      "dtypes: float64(5), int64(1)\n",
      "memory usage: 315.3 KB\n"
     ]
    },
    {
     "data": {
      "text/plain": [
       "(None,\n",
       " DatetimeIndex(['2001-01-02', '2001-01-03', '2001-01-04', '2001-01-05',\n",
       "                '2001-01-08', '2001-01-09', '2001-01-10', '2001-01-11',\n",
       "                '2001-01-12', '2001-01-16',\n",
       "                ...\n",
       "                '2023-11-16', '2023-11-17', '2023-11-20', '2023-11-21',\n",
       "                '2023-11-22', '2023-11-24', '2023-11-27', '2023-11-28',\n",
       "                '2023-11-29', '2023-11-30'],\n",
       "               dtype='datetime64[ns]', length=5765, freq=None))"
      ]
     },
     "execution_count": 4,
     "metadata": {},
     "output_type": "execute_result"
    }
   ],
   "source": [
    "snp500.info(), snp500.index"
   ]
  },
  {
   "cell_type": "markdown",
   "metadata": {},
   "source": [
    "### 수익률 백테스팅 비교 \n",
    "- 넣다 빼는게 나은지 그냥 가지고 있는게 좋은지 수익률 비교\n",
    "- 핼로윈 VS 단순 보유 수익률 => CAGR로 비교"
   ]
  },
  {
   "cell_type": "markdown",
   "metadata": {},
   "source": [
    "#### 핼로윈 전략 일 때 "
   ]
  },
  {
   "cell_type": "code",
   "execution_count": 9,
   "metadata": {},
   "outputs": [
    {
     "data": {
      "text/plain": [
       "1084.0999755859375"
      ]
     },
     "execution_count": 9,
     "metadata": {},
     "output_type": "execute_result"
    }
   ],
   "source": [
    "buy_price = snp500.loc['2001-11'].iloc[0].loc['Close'] # 11월의 첫날짜\n",
    "buy_price"
   ]
  },
  {
   "cell_type": "code",
   "execution_count": 10,
   "metadata": {},
   "outputs": [
    {
     "data": {
      "text/plain": [
       "1076.9200439453125"
      ]
     },
     "execution_count": 10,
     "metadata": {},
     "output_type": "execute_result"
    }
   ],
   "source": [
    "sell_price = snp500.loc['2002-04'].iloc[-1].loc['Close'] # 4월의 끝날짜\n",
    "sell_price"
   ]
  },
  {
   "cell_type": "code",
   "execution_count": null,
   "metadata": {},
   "outputs": [],
   "source": [
    "cum_rate_of_return = 1\n",
    "for year in range(2001, 2023):\n",
    "    buy_year_month = f'{year}-11'\n",
    "    sell_year_month = f'{year+1}-04'\n",
    "    buy_price = snp500.loc[buy_year_month].iloc[0].loc['Close']\n",
    "    sell_price = snp500.loc[sell_year_month].iloc[-1].loc['Close']\n",
    "\n",
    "    rate_of_return = sell_price / buy_price\n",
    "    cum_rate_of_return = cum_rate_of_return * rate_of_return"
   ]
  },
  {
   "cell_type": "code",
   "execution_count": 11,
   "metadata": {},
   "outputs": [
    {
     "data": {
      "text/plain": [
       "0.99337705764937"
      ]
     },
     "execution_count": 11,
     "metadata": {},
     "output_type": "execute_result"
    }
   ],
   "source": [
    "# rate_of_return = sell_price / buy_price\n",
    "# cum_rate_of_return = 1 * rate_of_return\n",
    "# cum_rate_of_return"
   ]
  },
  {
   "cell_type": "code",
   "execution_count": 12,
   "metadata": {},
   "outputs": [
    {
     "data": {
      "text/plain": [
       "-0.662294235062999"
      ]
     },
     "execution_count": 12,
     "metadata": {},
     "output_type": "execute_result"
    }
   ],
   "source": [
    "# halloween 전략시 누적 수익률 \n",
    "ranges = 1\n",
    "CAGR = ((cum_rate_of_return ** (1/ranges))-1) * 100\n",
    "CAGR"
   ]
  },
  {
   "cell_type": "markdown",
   "metadata": {},
   "source": [
    "#### 단순 수익률 "
   ]
  },
  {
   "cell_type": "code",
   "execution_count": 14,
   "metadata": {},
   "outputs": [
    {
     "data": {
      "text/plain": [
       "4.213448858550783"
      ]
     },
     "execution_count": 14,
     "metadata": {},
     "output_type": "execute_result"
    }
   ],
   "source": [
    "simple_rate_of_return = snp500.iloc[-1].loc['Close'] / snp500.loc['2001-11'].iloc[0].loc['Close']\n",
    "simple_cum_rate_of_return = 1 * simple_rate_of_return\n",
    "simple_cum_rate_of_return"
   ]
  },
  {
   "cell_type": "code",
   "execution_count": 15,
   "metadata": {},
   "outputs": [
    {
     "ename": "TypeError",
     "evalue": "unsupported operand type(s) for /: 'int' and 'Timedelta'",
     "output_type": "error",
     "traceback": [
      "\u001b[0;31m---------------------------------------------------------------------------\u001b[0m",
      "\u001b[0;31mTypeError\u001b[0m                                 Traceback (most recent call last)",
      "Cell \u001b[0;32mIn[15], line 2\u001b[0m\n\u001b[1;32m      1\u001b[0m ranges \u001b[38;5;241m=\u001b[39m snp500\u001b[38;5;241m.\u001b[39mindex[\u001b[38;5;241m-\u001b[39m\u001b[38;5;241m1\u001b[39m] \u001b[38;5;241m-\u001b[39m snp500\u001b[38;5;241m.\u001b[39mloc[\u001b[38;5;124m'\u001b[39m\u001b[38;5;124m2001-11\u001b[39m\u001b[38;5;124m'\u001b[39m]\u001b[38;5;241m.\u001b[39mindex[\u001b[38;5;241m0\u001b[39m]\n\u001b[0;32m----> 2\u001b[0m CAGR \u001b[38;5;241m=\u001b[39m ((cum_rate_of_return \u001b[38;5;241m*\u001b[39m\u001b[38;5;241m*\u001b[39m (\u001b[38;5;241;43m1\u001b[39;49m\u001b[38;5;241;43m/\u001b[39;49m\u001b[43mranges\u001b[49m))\u001b[38;5;241m-\u001b[39m\u001b[38;5;241m1\u001b[39m) \u001b[38;5;241m*\u001b[39m \u001b[38;5;241m100\u001b[39m\n\u001b[1;32m      3\u001b[0m CAGR\n",
      "\u001b[0;31mTypeError\u001b[0m: unsupported operand type(s) for /: 'int' and 'Timedelta'"
     ]
    }
   ],
   "source": [
    "ranges = snp500.index[-1] - index[0]\n",
    "CAGR = ((cum_rate_of_return ** (1/ranges))-1) * 100\n",
    "CAGR"
   ]
  }
 ],
 "metadata": {
  "kernelspec": {
   "display_name": "Python 3",
   "language": "python",
   "name": "python3"
  },
  "language_info": {
   "codemirror_mode": {
    "name": "ipython",
    "version": 3
   },
   "file_extension": ".py",
   "mimetype": "text/x-python",
   "name": "python",
   "nbconvert_exporter": "python",
   "pygments_lexer": "ipython3",
   "version": "3.11.11"
  }
 },
 "nbformat": 4,
 "nbformat_minor": 2
}
