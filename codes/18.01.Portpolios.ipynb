{
 "cells": [
  {
   "cell_type": "markdown",
   "metadata": {},
   "source": [
    "## 선별 개별 종목에 대한 알맞은 가중치 구성법"
   ]
  },
  {
   "cell_type": "markdown",
   "metadata": {},
   "source": [
    "### 개별 종목 머지"
   ]
  },
  {
   "cell_type": "code",
   "execution_count": 555,
   "metadata": {},
   "outputs": [],
   "source": [
    "import pandas as pd\n",
    "from pykrx import stock\n"
   ]
  },
  {
   "cell_type": "code",
   "execution_count": 556,
   "metadata": {},
   "outputs": [],
   "source": [
    "start_date = f'20200101'\n",
    "end_date = f'20211231'\n",
    "\n",
    "symbols = [ '035420', '196170', '042700', '005930'] # 네이버, 알트로젠, 한미반도체, 삼성전자"
   ]
  },
  {
   "cell_type": "code",
   "execution_count": 557,
   "metadata": {},
   "outputs": [
    {
     "data": {
      "text/html": [
       "<div>\n",
       "<style scoped>\n",
       "    .dataframe tbody tr th:only-of-type {\n",
       "        vertical-align: middle;\n",
       "    }\n",
       "\n",
       "    .dataframe tbody tr th {\n",
       "        vertical-align: top;\n",
       "    }\n",
       "\n",
       "    .dataframe thead th {\n",
       "        text-align: right;\n",
       "    }\n",
       "</style>\n",
       "<table border=\"1\" class=\"dataframe\">\n",
       "  <thead>\n",
       "    <tr style=\"text-align: right;\">\n",
       "      <th></th>\n",
       "      <th>035420</th>\n",
       "      <th>196170</th>\n",
       "      <th>042700</th>\n",
       "      <th>005930</th>\n",
       "    </tr>\n",
       "    <tr>\n",
       "      <th>날짜</th>\n",
       "      <th></th>\n",
       "      <th></th>\n",
       "      <th></th>\n",
       "      <th></th>\n",
       "    </tr>\n",
       "  </thead>\n",
       "  <tbody>\n",
       "    <tr>\n",
       "      <th>2020-01-02</th>\n",
       "      <td>182500</td>\n",
       "      <td>19413</td>\n",
       "      <td>3980</td>\n",
       "      <td>55200</td>\n",
       "    </tr>\n",
       "    <tr>\n",
       "      <th>2020-01-03</th>\n",
       "      <td>181500</td>\n",
       "      <td>18746</td>\n",
       "      <td>3985</td>\n",
       "      <td>55500</td>\n",
       "    </tr>\n",
       "    <tr>\n",
       "      <th>2020-01-06</th>\n",
       "      <td>180500</td>\n",
       "      <td>17494</td>\n",
       "      <td>3920</td>\n",
       "      <td>55500</td>\n",
       "    </tr>\n",
       "    <tr>\n",
       "      <th>2020-01-07</th>\n",
       "      <td>187000</td>\n",
       "      <td>17995</td>\n",
       "      <td>3925</td>\n",
       "      <td>55800</td>\n",
       "    </tr>\n",
       "    <tr>\n",
       "      <th>2020-01-08</th>\n",
       "      <td>183000</td>\n",
       "      <td>16883</td>\n",
       "      <td>3925</td>\n",
       "      <td>56800</td>\n",
       "    </tr>\n",
       "    <tr>\n",
       "      <th>...</th>\n",
       "      <td>...</td>\n",
       "      <td>...</td>\n",
       "      <td>...</td>\n",
       "      <td>...</td>\n",
       "    </tr>\n",
       "    <tr>\n",
       "      <th>2021-12-24</th>\n",
       "      <td>384000</td>\n",
       "      <td>58389</td>\n",
       "      <td>18050</td>\n",
       "      <td>80500</td>\n",
       "    </tr>\n",
       "    <tr>\n",
       "      <th>2021-12-27</th>\n",
       "      <td>380500</td>\n",
       "      <td>59807</td>\n",
       "      <td>18300</td>\n",
       "      <td>80200</td>\n",
       "    </tr>\n",
       "    <tr>\n",
       "      <th>2021-12-28</th>\n",
       "      <td>384500</td>\n",
       "      <td>62809</td>\n",
       "      <td>18425</td>\n",
       "      <td>80300</td>\n",
       "    </tr>\n",
       "    <tr>\n",
       "      <th>2021-12-29</th>\n",
       "      <td>382000</td>\n",
       "      <td>62976</td>\n",
       "      <td>18500</td>\n",
       "      <td>78800</td>\n",
       "    </tr>\n",
       "    <tr>\n",
       "      <th>2021-12-30</th>\n",
       "      <td>378500</td>\n",
       "      <td>63143</td>\n",
       "      <td>18925</td>\n",
       "      <td>78300</td>\n",
       "    </tr>\n",
       "  </tbody>\n",
       "</table>\n",
       "<p>496 rows × 4 columns</p>\n",
       "</div>"
      ],
      "text/plain": [
       "            035420  196170  042700  005930\n",
       "날짜                                        \n",
       "2020-01-02  182500   19413    3980   55200\n",
       "2020-01-03  181500   18746    3985   55500\n",
       "2020-01-06  180500   17494    3920   55500\n",
       "2020-01-07  187000   17995    3925   55800\n",
       "2020-01-08  183000   16883    3925   56800\n",
       "...            ...     ...     ...     ...\n",
       "2021-12-24  384000   58389   18050   80500\n",
       "2021-12-27  380500   59807   18300   80200\n",
       "2021-12-28  384500   62809   18425   80300\n",
       "2021-12-29  382000   62976   18500   78800\n",
       "2021-12-30  378500   63143   18925   78300\n",
       "\n",
       "[496 rows x 4 columns]"
      ]
     },
     "execution_count": 557,
     "metadata": {},
     "output_type": "execute_result"
    }
   ],
   "source": [
    "# dataframe concat\n",
    "stock_df = pd.DataFrame()\n",
    "for symbol in symbols:\n",
    "    stock_df[symbol] = stock.get_market_ohlcv_by_date(start_date, end_date, symbol)['종가'] # 네이버\n",
    "\n",
    "stock_df"
   ]
  },
  {
   "cell_type": "code",
   "execution_count": 558,
   "metadata": {},
   "outputs": [
    {
     "data": {
      "text/html": [
       "<div>\n",
       "<style scoped>\n",
       "    .dataframe tbody tr th:only-of-type {\n",
       "        vertical-align: middle;\n",
       "    }\n",
       "\n",
       "    .dataframe tbody tr th {\n",
       "        vertical-align: top;\n",
       "    }\n",
       "\n",
       "    .dataframe thead th {\n",
       "        text-align: right;\n",
       "    }\n",
       "</style>\n",
       "<table border=\"1\" class=\"dataframe\">\n",
       "  <thead>\n",
       "    <tr style=\"text-align: right;\">\n",
       "      <th></th>\n",
       "      <th>035420</th>\n",
       "      <th>196170</th>\n",
       "      <th>042700</th>\n",
       "      <th>005930</th>\n",
       "    </tr>\n",
       "    <tr>\n",
       "      <th>날짜</th>\n",
       "      <th></th>\n",
       "      <th></th>\n",
       "      <th></th>\n",
       "      <th></th>\n",
       "    </tr>\n",
       "  </thead>\n",
       "  <tbody>\n",
       "    <tr>\n",
       "      <th>2020-01-02</th>\n",
       "      <td>NaN</td>\n",
       "      <td>NaN</td>\n",
       "      <td>NaN</td>\n",
       "      <td>NaN</td>\n",
       "    </tr>\n",
       "    <tr>\n",
       "      <th>2020-01-03</th>\n",
       "      <td>-0.005479</td>\n",
       "      <td>-0.034358</td>\n",
       "      <td>0.001256</td>\n",
       "      <td>0.005435</td>\n",
       "    </tr>\n",
       "    <tr>\n",
       "      <th>2020-01-06</th>\n",
       "      <td>-0.005510</td>\n",
       "      <td>-0.066788</td>\n",
       "      <td>-0.016311</td>\n",
       "      <td>0.000000</td>\n",
       "    </tr>\n",
       "    <tr>\n",
       "      <th>2020-01-07</th>\n",
       "      <td>0.036011</td>\n",
       "      <td>0.028638</td>\n",
       "      <td>0.001276</td>\n",
       "      <td>0.005405</td>\n",
       "    </tr>\n",
       "    <tr>\n",
       "      <th>2020-01-08</th>\n",
       "      <td>-0.021390</td>\n",
       "      <td>-0.061795</td>\n",
       "      <td>0.000000</td>\n",
       "      <td>0.017921</td>\n",
       "    </tr>\n",
       "    <tr>\n",
       "      <th>...</th>\n",
       "      <td>...</td>\n",
       "      <td>...</td>\n",
       "      <td>...</td>\n",
       "      <td>...</td>\n",
       "    </tr>\n",
       "    <tr>\n",
       "      <th>2021-12-24</th>\n",
       "      <td>0.015873</td>\n",
       "      <td>-0.014082</td>\n",
       "      <td>0.000000</td>\n",
       "      <td>0.007509</td>\n",
       "    </tr>\n",
       "    <tr>\n",
       "      <th>2021-12-27</th>\n",
       "      <td>-0.009115</td>\n",
       "      <td>0.024285</td>\n",
       "      <td>0.013850</td>\n",
       "      <td>-0.003727</td>\n",
       "    </tr>\n",
       "    <tr>\n",
       "      <th>2021-12-28</th>\n",
       "      <td>0.010512</td>\n",
       "      <td>0.050195</td>\n",
       "      <td>0.006831</td>\n",
       "      <td>0.001247</td>\n",
       "    </tr>\n",
       "    <tr>\n",
       "      <th>2021-12-29</th>\n",
       "      <td>-0.006502</td>\n",
       "      <td>0.002659</td>\n",
       "      <td>0.004071</td>\n",
       "      <td>-0.018680</td>\n",
       "    </tr>\n",
       "    <tr>\n",
       "      <th>2021-12-30</th>\n",
       "      <td>-0.009162</td>\n",
       "      <td>0.002652</td>\n",
       "      <td>0.022973</td>\n",
       "      <td>-0.006345</td>\n",
       "    </tr>\n",
       "  </tbody>\n",
       "</table>\n",
       "<p>496 rows × 4 columns</p>\n",
       "</div>"
      ],
      "text/plain": [
       "              035420    196170    042700    005930\n",
       "날짜                                                \n",
       "2020-01-02       NaN       NaN       NaN       NaN\n",
       "2020-01-03 -0.005479 -0.034358  0.001256  0.005435\n",
       "2020-01-06 -0.005510 -0.066788 -0.016311  0.000000\n",
       "2020-01-07  0.036011  0.028638  0.001276  0.005405\n",
       "2020-01-08 -0.021390 -0.061795  0.000000  0.017921\n",
       "...              ...       ...       ...       ...\n",
       "2021-12-24  0.015873 -0.014082  0.000000  0.007509\n",
       "2021-12-27 -0.009115  0.024285  0.013850 -0.003727\n",
       "2021-12-28  0.010512  0.050195  0.006831  0.001247\n",
       "2021-12-29 -0.006502  0.002659  0.004071 -0.018680\n",
       "2021-12-30 -0.009162  0.002652  0.022973 -0.006345\n",
       "\n",
       "[496 rows x 4 columns]"
      ]
     },
     "execution_count": 558,
     "metadata": {},
     "output_type": "execute_result"
    }
   ],
   "source": [
    "# 데일리 수익률\n",
    "daily_return = stock_df.pct_change(periods=1) # shift and percent 까지 해서 수익률 나옴.\n",
    "daily_return"
   ]
  },
  {
   "cell_type": "code",
   "execution_count": 559,
   "metadata": {},
   "outputs": [
    {
     "data": {
      "text/plain": [
       "035420    0.437258\n",
       "196170    0.883705\n",
       "042700    0.946450\n",
       "005930    0.217409\n",
       "dtype: float64"
      ]
     },
     "execution_count": 559,
     "metadata": {},
     "output_type": "execute_result"
    }
   ],
   "source": [
    "# 리스크 점수 구하기 \n",
    "annual_return = daily_return.mean() * 252\n",
    "annual_return"
   ]
  },
  {
   "cell_type": "code",
   "execution_count": 560,
   "metadata": {},
   "outputs": [
    {
     "data": {
      "text/html": [
       "<div>\n",
       "<style scoped>\n",
       "    .dataframe tbody tr th:only-of-type {\n",
       "        vertical-align: middle;\n",
       "    }\n",
       "\n",
       "    .dataframe tbody tr th {\n",
       "        vertical-align: top;\n",
       "    }\n",
       "\n",
       "    .dataframe thead th {\n",
       "        text-align: right;\n",
       "    }\n",
       "</style>\n",
       "<table border=\"1\" class=\"dataframe\">\n",
       "  <thead>\n",
       "    <tr style=\"text-align: right;\">\n",
       "      <th></th>\n",
       "      <th>035420</th>\n",
       "      <th>196170</th>\n",
       "      <th>042700</th>\n",
       "      <th>005930</th>\n",
       "    </tr>\n",
       "  </thead>\n",
       "  <tbody>\n",
       "    <tr>\n",
       "      <th>035420</th>\n",
       "      <td>0.000526</td>\n",
       "      <td>0.000409</td>\n",
       "      <td>0.000260</td>\n",
       "      <td>0.000159</td>\n",
       "    </tr>\n",
       "    <tr>\n",
       "      <th>196170</th>\n",
       "      <td>0.000409</td>\n",
       "      <td>0.002319</td>\n",
       "      <td>0.000473</td>\n",
       "      <td>0.000185</td>\n",
       "    </tr>\n",
       "    <tr>\n",
       "      <th>042700</th>\n",
       "      <td>0.000260</td>\n",
       "      <td>0.000473</td>\n",
       "      <td>0.001220</td>\n",
       "      <td>0.000283</td>\n",
       "    </tr>\n",
       "    <tr>\n",
       "      <th>005930</th>\n",
       "      <td>0.000159</td>\n",
       "      <td>0.000185</td>\n",
       "      <td>0.000283</td>\n",
       "      <td>0.000315</td>\n",
       "    </tr>\n",
       "  </tbody>\n",
       "</table>\n",
       "</div>"
      ],
      "text/plain": [
       "          035420    196170    042700    005930\n",
       "035420  0.000526  0.000409  0.000260  0.000159\n",
       "196170  0.000409  0.002319  0.000473  0.000185\n",
       "042700  0.000260  0.000473  0.001220  0.000283\n",
       "005930  0.000159  0.000185  0.000283  0.000315"
      ]
     },
     "execution_count": 560,
     "metadata": {},
     "output_type": "execute_result"
    }
   ],
   "source": [
    "daily_cov = daily_return.cov()\n",
    "daily_cov"
   ]
  },
  {
   "cell_type": "code",
   "execution_count": 561,
   "metadata": {},
   "outputs": [
    {
     "data": {
      "text/html": [
       "<div>\n",
       "<style scoped>\n",
       "    .dataframe tbody tr th:only-of-type {\n",
       "        vertical-align: middle;\n",
       "    }\n",
       "\n",
       "    .dataframe tbody tr th {\n",
       "        vertical-align: top;\n",
       "    }\n",
       "\n",
       "    .dataframe thead th {\n",
       "        text-align: right;\n",
       "    }\n",
       "</style>\n",
       "<table border=\"1\" class=\"dataframe\">\n",
       "  <thead>\n",
       "    <tr style=\"text-align: right;\">\n",
       "      <th></th>\n",
       "      <th>035420</th>\n",
       "      <th>196170</th>\n",
       "      <th>042700</th>\n",
       "      <th>005930</th>\n",
       "    </tr>\n",
       "  </thead>\n",
       "  <tbody>\n",
       "    <tr>\n",
       "      <th>035420</th>\n",
       "      <td>0.132514</td>\n",
       "      <td>0.102990</td>\n",
       "      <td>0.065583</td>\n",
       "      <td>0.039966</td>\n",
       "    </tr>\n",
       "    <tr>\n",
       "      <th>196170</th>\n",
       "      <td>0.102990</td>\n",
       "      <td>0.584310</td>\n",
       "      <td>0.119117</td>\n",
       "      <td>0.046511</td>\n",
       "    </tr>\n",
       "    <tr>\n",
       "      <th>042700</th>\n",
       "      <td>0.065583</td>\n",
       "      <td>0.119117</td>\n",
       "      <td>0.307320</td>\n",
       "      <td>0.071432</td>\n",
       "    </tr>\n",
       "    <tr>\n",
       "      <th>005930</th>\n",
       "      <td>0.039966</td>\n",
       "      <td>0.046511</td>\n",
       "      <td>0.071432</td>\n",
       "      <td>0.079495</td>\n",
       "    </tr>\n",
       "  </tbody>\n",
       "</table>\n",
       "</div>"
      ],
      "text/plain": [
       "          035420    196170    042700    005930\n",
       "035420  0.132514  0.102990  0.065583  0.039966\n",
       "196170  0.102990  0.584310  0.119117  0.046511\n",
       "042700  0.065583  0.119117  0.307320  0.071432\n",
       "005930  0.039966  0.046511  0.071432  0.079495"
      ]
     },
     "execution_count": 561,
     "metadata": {},
     "output_type": "execute_result"
    }
   ],
   "source": [
    "annual_cov = daily_cov * 252\n",
    "annual_cov"
   ]
  },
  {
   "cell_type": "markdown",
   "metadata": {},
   "source": [
    "### 비율 생성과 정규화 "
   ]
  },
  {
   "cell_type": "code",
   "execution_count": 562,
   "metadata": {},
   "outputs": [],
   "source": [
    "import numpy as np"
   ]
  },
  {
   "cell_type": "code",
   "execution_count": 563,
   "metadata": {},
   "outputs": [
    {
     "data": {
      "text/plain": [
       "(array([0.06334808, 0.1168283 , 0.70805683, 0.97732926]), numpy.ndarray, (4,))"
      ]
     },
     "execution_count": 563,
     "metadata": {},
     "output_type": "execute_result"
    }
   ],
   "source": [
    "# 비율 랜덤 생성\n",
    "weights = np.random.random(len(symbols))\n",
    "weights, type(weights), weights.shape"
   ]
  },
  {
   "cell_type": "code",
   "execution_count": 564,
   "metadata": {},
   "outputs": [
    {
     "data": {
      "text/plain": [
       "(array([0.03395656, 0.06262363, 0.37954067, 0.52387914]),\n",
       " numpy.ndarray,\n",
       " (4,),\n",
       " 1.0)"
      ]
     },
     "execution_count": 564,
     "metadata": {},
     "output_type": "execute_result"
    }
   ],
   "source": [
    "# 비율 정규화 \n",
    "weights = weights / np.sum(weights)\n",
    "weights, type(weights), weights.shape, np.sum(weights)"
   ]
  },
  {
   "cell_type": "code",
   "execution_count": 565,
   "metadata": {},
   "outputs": [
    {
     "data": {
      "text/plain": [
       "(0.5433008867794505, numpy.float64)"
      ]
     },
     "execution_count": 565,
     "metadata": {},
     "output_type": "execute_result"
    }
   ],
   "source": [
    "return_of_rate = np.dot(weights, annual_return)\n",
    "return_of_rate, type(return_of_rate) # y축 값 수익률 "
   ]
  },
  {
   "cell_type": "code",
   "execution_count": 566,
   "metadata": {},
   "outputs": [
    {
     "data": {
      "text/plain": [
       "array([0.05677798, 0.10966483, 0.16374849, 0.07302687])"
      ]
     },
     "execution_count": 566,
     "metadata": {},
     "output_type": "execute_result"
    }
   ],
   "source": [
    "np.dot(annual_cov, weights)"
   ]
  },
  {
   "cell_type": "code",
   "execution_count": 567,
   "metadata": {},
   "outputs": [
    {
     "data": {
      "text/plain": [
       "0.10920206365468976"
      ]
     },
     "execution_count": 567,
     "metadata": {},
     "output_type": "execute_result"
    }
   ],
   "source": [
    "np.dot(weights.T, np.dot(annual_cov, weights))"
   ]
  },
  {
   "cell_type": "code",
   "execution_count": 568,
   "metadata": {},
   "outputs": [
    {
     "data": {
      "text/plain": [
       "(0.3304573552740047, numpy.float64)"
      ]
     },
     "execution_count": 568,
     "metadata": {},
     "output_type": "execute_result"
    }
   ],
   "source": [
    "risk = np.sqrt(np.dot(weights.T, np.dot(annual_cov, weights)))\n",
    "risk, type(risk) # x축 값 리스크"
   ]
  },
  {
   "cell_type": "code",
   "execution_count": 569,
   "metadata": {},
   "outputs": [],
   "source": [
    "# 여러 포트폴리오 비율 적용\n",
    "fiture_count = 1000\n",
    "portfolio_return_of_rate = []\n",
    "portfolio_risk = []\n",
    "portfolio_weights = []\n",
    "for num in range(fiture_count):\n",
    "    weights = np.random.random(len(symbols))\n",
    "    weights = weights / np.sum(weights)\n",
    "    return_of_rate = np.dot(weights, annual_return) # y\n",
    "    risk = np.sqrt(np.dot(weights.T, np.dot(annual_cov, weights))) # x\n",
    "\n",
    "    portfolio_return_of_rate.append(return_of_rate)\n",
    "    portfolio_risk.append(risk)\n",
    "    portfolio_weights.append(weights)\n",
    "\n"
   ]
  },
  {
   "cell_type": "code",
   "execution_count": 570,
   "metadata": {},
   "outputs": [
    {
     "data": {
      "text/html": [
       "<div>\n",
       "<style scoped>\n",
       "    .dataframe tbody tr th:only-of-type {\n",
       "        vertical-align: middle;\n",
       "    }\n",
       "\n",
       "    .dataframe tbody tr th {\n",
       "        vertical-align: top;\n",
       "    }\n",
       "\n",
       "    .dataframe thead th {\n",
       "        text-align: right;\n",
       "    }\n",
       "</style>\n",
       "<table border=\"1\" class=\"dataframe\">\n",
       "  <thead>\n",
       "    <tr style=\"text-align: right;\">\n",
       "      <th></th>\n",
       "      <th>Return_of_rate</th>\n",
       "      <th>Risk</th>\n",
       "      <th>035420</th>\n",
       "      <th>196170</th>\n",
       "      <th>042700</th>\n",
       "      <th>005930</th>\n",
       "    </tr>\n",
       "  </thead>\n",
       "  <tbody>\n",
       "    <tr>\n",
       "      <th>0</th>\n",
       "      <td>0.590383</td>\n",
       "      <td>0.351114</td>\n",
       "      <td>0.314304</td>\n",
       "      <td>0.270825</td>\n",
       "      <td>0.169297</td>\n",
       "      <td>0.245574</td>\n",
       "    </tr>\n",
       "    <tr>\n",
       "      <th>1</th>\n",
       "      <td>0.672281</td>\n",
       "      <td>0.387310</td>\n",
       "      <td>0.155726</td>\n",
       "      <td>0.319433</td>\n",
       "      <td>0.285031</td>\n",
       "      <td>0.239810</td>\n",
       "    </tr>\n",
       "    <tr>\n",
       "      <th>2</th>\n",
       "      <td>0.744330</td>\n",
       "      <td>0.472665</td>\n",
       "      <td>0.297653</td>\n",
       "      <td>0.488316</td>\n",
       "      <td>0.186710</td>\n",
       "      <td>0.027321</td>\n",
       "    </tr>\n",
       "    <tr>\n",
       "      <th>3</th>\n",
       "      <td>0.610518</td>\n",
       "      <td>0.348524</td>\n",
       "      <td>0.274046</td>\n",
       "      <td>0.243663</td>\n",
       "      <td>0.233881</td>\n",
       "      <td>0.248410</td>\n",
       "    </tr>\n",
       "    <tr>\n",
       "      <th>4</th>\n",
       "      <td>0.596179</td>\n",
       "      <td>0.364013</td>\n",
       "      <td>0.300521</td>\n",
       "      <td>0.308016</td>\n",
       "      <td>0.147414</td>\n",
       "      <td>0.244049</td>\n",
       "    </tr>\n",
       "  </tbody>\n",
       "</table>\n",
       "</div>"
      ],
      "text/plain": [
       "   Return_of_rate      Risk    035420    196170    042700    005930\n",
       "0        0.590383  0.351114  0.314304  0.270825  0.169297  0.245574\n",
       "1        0.672281  0.387310  0.155726  0.319433  0.285031  0.239810\n",
       "2        0.744330  0.472665  0.297653  0.488316  0.186710  0.027321\n",
       "3        0.610518  0.348524  0.274046  0.243663  0.233881  0.248410\n",
       "4        0.596179  0.364013  0.300521  0.308016  0.147414  0.244049"
      ]
     },
     "execution_count": 570,
     "metadata": {},
     "output_type": "execute_result"
    }
   ],
   "source": [
    "# Convert Dataframe : Return of rate, Rist, weights\n",
    "portfolio = {\n",
    "    \"Return_of_rate\" : portfolio_return_of_rate,\n",
    "    \"Risk\" : portfolio_risk\n",
    "}\n",
    "\n",
    "for idx, symbol in enumerate(symbols):\n",
    "    portfolio[symbol] =  [weight[idx] for weight in portfolio_weights]\n",
    "\n",
    "\n",
    "df_portfolio = pd.DataFrame(portfolio)\n",
    "df_portfolio.head()"
   ]
  },
  {
   "cell_type": "code",
   "execution_count": 571,
   "metadata": {},
   "outputs": [
    {
     "data": {
      "text/html": [
       "<div>\n",
       "<style scoped>\n",
       "    .dataframe tbody tr th:only-of-type {\n",
       "        vertical-align: middle;\n",
       "    }\n",
       "\n",
       "    .dataframe tbody tr th {\n",
       "        vertical-align: top;\n",
       "    }\n",
       "\n",
       "    .dataframe thead th {\n",
       "        text-align: right;\n",
       "    }\n",
       "</style>\n",
       "<table border=\"1\" class=\"dataframe\">\n",
       "  <thead>\n",
       "    <tr style=\"text-align: right;\">\n",
       "      <th></th>\n",
       "      <th>Return_of_rate</th>\n",
       "      <th>Risk</th>\n",
       "    </tr>\n",
       "  </thead>\n",
       "  <tbody>\n",
       "    <tr>\n",
       "      <th>0</th>\n",
       "      <td>0.590383</td>\n",
       "      <td>0.351114</td>\n",
       "    </tr>\n",
       "    <tr>\n",
       "      <th>1</th>\n",
       "      <td>0.672281</td>\n",
       "      <td>0.387310</td>\n",
       "    </tr>\n",
       "    <tr>\n",
       "      <th>2</th>\n",
       "      <td>0.744330</td>\n",
       "      <td>0.472665</td>\n",
       "    </tr>\n",
       "    <tr>\n",
       "      <th>3</th>\n",
       "      <td>0.610518</td>\n",
       "      <td>0.348524</td>\n",
       "    </tr>\n",
       "    <tr>\n",
       "      <th>4</th>\n",
       "      <td>0.596179</td>\n",
       "      <td>0.364013</td>\n",
       "    </tr>\n",
       "  </tbody>\n",
       "</table>\n",
       "</div>"
      ],
      "text/plain": [
       "   Return_of_rate      Risk\n",
       "0        0.590383  0.351114\n",
       "1        0.672281  0.387310\n",
       "2        0.744330  0.472665\n",
       "3        0.610518  0.348524\n",
       "4        0.596179  0.364013"
      ]
     },
     "execution_count": 571,
     "metadata": {},
     "output_type": "execute_result"
    }
   ],
   "source": [
    "df_portfolio[['Return_of_rate', 'Risk']].head()"
   ]
  },
  {
   "cell_type": "code",
   "execution_count": 572,
   "metadata": {},
   "outputs": [
    {
     "data": {
      "text/html": [
       "<div>\n",
       "<style scoped>\n",
       "    .dataframe tbody tr th:only-of-type {\n",
       "        vertical-align: middle;\n",
       "    }\n",
       "\n",
       "    .dataframe tbody tr th {\n",
       "        vertical-align: top;\n",
       "    }\n",
       "\n",
       "    .dataframe thead th {\n",
       "        text-align: right;\n",
       "    }\n",
       "</style>\n",
       "<table border=\"1\" class=\"dataframe\">\n",
       "  <thead>\n",
       "    <tr style=\"text-align: right;\">\n",
       "      <th></th>\n",
       "      <th>035420</th>\n",
       "      <th>196170</th>\n",
       "      <th>042700</th>\n",
       "      <th>005930</th>\n",
       "    </tr>\n",
       "  </thead>\n",
       "  <tbody>\n",
       "    <tr>\n",
       "      <th>0</th>\n",
       "      <td>0.314304</td>\n",
       "      <td>0.270825</td>\n",
       "      <td>0.169297</td>\n",
       "      <td>0.245574</td>\n",
       "    </tr>\n",
       "    <tr>\n",
       "      <th>1</th>\n",
       "      <td>0.155726</td>\n",
       "      <td>0.319433</td>\n",
       "      <td>0.285031</td>\n",
       "      <td>0.239810</td>\n",
       "    </tr>\n",
       "    <tr>\n",
       "      <th>2</th>\n",
       "      <td>0.297653</td>\n",
       "      <td>0.488316</td>\n",
       "      <td>0.186710</td>\n",
       "      <td>0.027321</td>\n",
       "    </tr>\n",
       "    <tr>\n",
       "      <th>3</th>\n",
       "      <td>0.274046</td>\n",
       "      <td>0.243663</td>\n",
       "      <td>0.233881</td>\n",
       "      <td>0.248410</td>\n",
       "    </tr>\n",
       "    <tr>\n",
       "      <th>4</th>\n",
       "      <td>0.300521</td>\n",
       "      <td>0.308016</td>\n",
       "      <td>0.147414</td>\n",
       "      <td>0.244049</td>\n",
       "    </tr>\n",
       "  </tbody>\n",
       "</table>\n",
       "</div>"
      ],
      "text/plain": [
       "     035420    196170    042700    005930\n",
       "0  0.314304  0.270825  0.169297  0.245574\n",
       "1  0.155726  0.319433  0.285031  0.239810\n",
       "2  0.297653  0.488316  0.186710  0.027321\n",
       "3  0.274046  0.243663  0.233881  0.248410\n",
       "4  0.300521  0.308016  0.147414  0.244049"
      ]
     },
     "execution_count": 572,
     "metadata": {},
     "output_type": "execute_result"
    }
   ],
   "source": [
    "df_portfolio[['035420','196170','042700','005930']].head()"
   ]
  },
  {
   "cell_type": "markdown",
   "metadata": {},
   "source": [
    "### Chart 작성"
   ]
  },
  {
   "cell_type": "code",
   "execution_count": 573,
   "metadata": {},
   "outputs": [],
   "source": [
    "import matplotlib.pyplot as plt\n",
    "import matplotlib as mpl # 한글 폰트 설정 (NanumGothic) \n",
    "mpl.rcParams['font.family'] = 'NanumGothic'\n",
    "mpl.rcParams['axes.unicode_minus'] = False  # 마이너스 기호 깨짐 방지"
   ]
  },
  {
   "cell_type": "code",
   "execution_count": 574,
   "metadata": {},
   "outputs": [
    {
     "data": {
      "image/png": "[encoded data removed]",
      "text/plain": [
       "<Figure size 1400x900 with 1 Axes>"
      ]
     },
     "metadata": {},
     "output_type": "display_data"
    }
   ],
   "source": [
    "plt.figure(figsize=(14,9), dpi=100)\n",
    "plt.scatter(df_portfolio['Risk'], df_portfolio['Return_of_rate'])\n",
    "plt.show()\n",
    "# 최외곽에 가까운 지점의 weight 만큼 종목에 투자"
   ]
  },
  {
   "cell_type": "code",
   "execution_count": null,
   "metadata": {},
   "outputs": [],
   "source": []
  }
 ],
 "metadata": {
  "kernelspec": {
   "display_name": "Python 3",
   "language": "python",
   "name": "python3"
  },
  "language_info": {
   "codemirror_mode": {
    "name": "ipython",
    "version": 3
   },
   "file_extension": ".py",
   "mimetype": "text/x-python",
   "name": "python",
   "nbconvert_exporter": "python",
   "pygments_lexer": "ipython3",
   "version": "3.11.11"
  }
 },
 "nbformat": 4,
 "nbformat_minor": 2
}
