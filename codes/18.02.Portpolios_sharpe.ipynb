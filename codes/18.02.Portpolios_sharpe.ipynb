{
 "cells": [
  {
   "cell_type": "markdown",
   "metadata": {},
   "source": [
    "## 샤프 지수(Sharpe Ratio) 이용한 포트폴리오 최적화\n",
    "- 위험 대비 성과 측정 지표\n",
    "- Sharpe = (포트폴리오 평균 수익률 - 무위험 이자율) / 포트폴리오 수익률 표준편차"
   ]
  },
  {
   "cell_type": "markdown",
   "metadata": {},
   "source": [
    "### 개별 종목 머지"
   ]
  },
  {
   "cell_type": "code",
   "execution_count": 2065,
   "metadata": {},
   "outputs": [],
   "source": [
    "import pandas as pd\n",
    "from pykrx import stock\n"
   ]
  },
  {
   "cell_type": "code",
   "execution_count": 2066,
   "metadata": {},
   "outputs": [],
   "source": [
    "start_date = f'20220101'\n",
    "end_date = f'20231231'\n",
    "\n",
    "symbols = [ '035420', '196170', '042700', '005930'] # 네이버, 알트로젠, 한미반도체, 삼성전자"
   ]
  },
  {
   "cell_type": "code",
   "execution_count": 2067,
   "metadata": {},
   "outputs": [
    {
     "data": {
      "text/html": [
       "<div>\n",
       "<style scoped>\n",
       "    .dataframe tbody tr th:only-of-type {\n",
       "        vertical-align: middle;\n",
       "    }\n",
       "\n",
       "    .dataframe tbody tr th {\n",
       "        vertical-align: top;\n",
       "    }\n",
       "\n",
       "    .dataframe thead th {\n",
       "        text-align: right;\n",
       "    }\n",
       "</style>\n",
       "<table border=\"1\" class=\"dataframe\">\n",
       "  <thead>\n",
       "    <tr style=\"text-align: right;\">\n",
       "      <th></th>\n",
       "      <th>035420</th>\n",
       "      <th>196170</th>\n",
       "      <th>042700</th>\n",
       "      <th>005930</th>\n",
       "    </tr>\n",
       "    <tr>\n",
       "      <th>날짜</th>\n",
       "      <th></th>\n",
       "      <th></th>\n",
       "      <th></th>\n",
       "      <th></th>\n",
       "    </tr>\n",
       "  </thead>\n",
       "  <tbody>\n",
       "    <tr>\n",
       "      <th>2022-01-03</th>\n",
       "      <td>376000</td>\n",
       "      <td>62226</td>\n",
       "      <td>19075</td>\n",
       "      <td>78600</td>\n",
       "    </tr>\n",
       "    <tr>\n",
       "      <th>2022-01-04</th>\n",
       "      <td>365500</td>\n",
       "      <td>60140</td>\n",
       "      <td>18625</td>\n",
       "      <td>78700</td>\n",
       "    </tr>\n",
       "    <tr>\n",
       "      <th>2022-01-05</th>\n",
       "      <td>355000</td>\n",
       "      <td>58472</td>\n",
       "      <td>18000</td>\n",
       "      <td>77400</td>\n",
       "    </tr>\n",
       "    <tr>\n",
       "      <th>2022-01-06</th>\n",
       "      <td>338500</td>\n",
       "      <td>58555</td>\n",
       "      <td>17500</td>\n",
       "      <td>76900</td>\n",
       "    </tr>\n",
       "    <tr>\n",
       "      <th>2022-01-07</th>\n",
       "      <td>338000</td>\n",
       "      <td>59306</td>\n",
       "      <td>18000</td>\n",
       "      <td>78300</td>\n",
       "    </tr>\n",
       "    <tr>\n",
       "      <th>...</th>\n",
       "      <td>...</td>\n",
       "      <td>...</td>\n",
       "      <td>...</td>\n",
       "      <td>...</td>\n",
       "    </tr>\n",
       "    <tr>\n",
       "      <th>2023-12-21</th>\n",
       "      <td>216500</td>\n",
       "      <td>88100</td>\n",
       "      <td>59200</td>\n",
       "      <td>75000</td>\n",
       "    </tr>\n",
       "    <tr>\n",
       "      <th>2023-12-22</th>\n",
       "      <td>215000</td>\n",
       "      <td>87900</td>\n",
       "      <td>58600</td>\n",
       "      <td>75900</td>\n",
       "    </tr>\n",
       "    <tr>\n",
       "      <th>2023-12-26</th>\n",
       "      <td>215500</td>\n",
       "      <td>91900</td>\n",
       "      <td>57600</td>\n",
       "      <td>76600</td>\n",
       "    </tr>\n",
       "    <tr>\n",
       "      <th>2023-12-27</th>\n",
       "      <td>223000</td>\n",
       "      <td>96600</td>\n",
       "      <td>61500</td>\n",
       "      <td>78000</td>\n",
       "    </tr>\n",
       "    <tr>\n",
       "      <th>2023-12-28</th>\n",
       "      <td>224000</td>\n",
       "      <td>98500</td>\n",
       "      <td>61700</td>\n",
       "      <td>78500</td>\n",
       "    </tr>\n",
       "  </tbody>\n",
       "</table>\n",
       "<p>491 rows × 4 columns</p>\n",
       "</div>"
      ],
      "text/plain": [
       "            035420  196170  042700  005930\n",
       "날짜                                        \n",
       "2022-01-03  376000   62226   19075   78600\n",
       "2022-01-04  365500   60140   18625   78700\n",
       "2022-01-05  355000   58472   18000   77400\n",
       "2022-01-06  338500   58555   17500   76900\n",
       "2022-01-07  338000   59306   18000   78300\n",
       "...            ...     ...     ...     ...\n",
       "2023-12-21  216500   88100   59200   75000\n",
       "2023-12-22  215000   87900   58600   75900\n",
       "2023-12-26  215500   91900   57600   76600\n",
       "2023-12-27  223000   96600   61500   78000\n",
       "2023-12-28  224000   98500   61700   78500\n",
       "\n",
       "[491 rows x 4 columns]"
      ]
     },
     "execution_count": 2067,
     "metadata": {},
     "output_type": "execute_result"
    }
   ],
   "source": [
    "# dataframe concat\n",
    "stock_df = pd.DataFrame()\n",
    "for symbol in symbols:\n",
    "    stock_df[symbol] = stock.get_market_ohlcv_by_date(start_date, end_date, symbol)['종가'] # 네이버\n",
    "\n",
    "stock_df"
   ]
  },
  {
   "cell_type": "code",
   "execution_count": 2068,
   "metadata": {},
   "outputs": [
    {
     "data": {
      "text/html": [
       "<div>\n",
       "<style scoped>\n",
       "    .dataframe tbody tr th:only-of-type {\n",
       "        vertical-align: middle;\n",
       "    }\n",
       "\n",
       "    .dataframe tbody tr th {\n",
       "        vertical-align: top;\n",
       "    }\n",
       "\n",
       "    .dataframe thead th {\n",
       "        text-align: right;\n",
       "    }\n",
       "</style>\n",
       "<table border=\"1\" class=\"dataframe\">\n",
       "  <thead>\n",
       "    <tr style=\"text-align: right;\">\n",
       "      <th></th>\n",
       "      <th>035420</th>\n",
       "      <th>196170</th>\n",
       "      <th>042700</th>\n",
       "      <th>005930</th>\n",
       "    </tr>\n",
       "    <tr>\n",
       "      <th>날짜</th>\n",
       "      <th></th>\n",
       "      <th></th>\n",
       "      <th></th>\n",
       "      <th></th>\n",
       "    </tr>\n",
       "  </thead>\n",
       "  <tbody>\n",
       "    <tr>\n",
       "      <th>2022-01-03</th>\n",
       "      <td>NaN</td>\n",
       "      <td>NaN</td>\n",
       "      <td>NaN</td>\n",
       "      <td>NaN</td>\n",
       "    </tr>\n",
       "    <tr>\n",
       "      <th>2022-01-04</th>\n",
       "      <td>-0.027926</td>\n",
       "      <td>-0.033523</td>\n",
       "      <td>-0.023591</td>\n",
       "      <td>0.001272</td>\n",
       "    </tr>\n",
       "    <tr>\n",
       "      <th>2022-01-05</th>\n",
       "      <td>-0.028728</td>\n",
       "      <td>-0.027735</td>\n",
       "      <td>-0.033557</td>\n",
       "      <td>-0.016518</td>\n",
       "    </tr>\n",
       "    <tr>\n",
       "      <th>2022-01-06</th>\n",
       "      <td>-0.046479</td>\n",
       "      <td>0.001419</td>\n",
       "      <td>-0.027778</td>\n",
       "      <td>-0.006460</td>\n",
       "    </tr>\n",
       "    <tr>\n",
       "      <th>2022-01-07</th>\n",
       "      <td>-0.001477</td>\n",
       "      <td>0.012826</td>\n",
       "      <td>0.028571</td>\n",
       "      <td>0.018205</td>\n",
       "    </tr>\n",
       "    <tr>\n",
       "      <th>...</th>\n",
       "      <td>...</td>\n",
       "      <td>...</td>\n",
       "      <td>...</td>\n",
       "      <td>...</td>\n",
       "    </tr>\n",
       "    <tr>\n",
       "      <th>2023-12-21</th>\n",
       "      <td>-0.018141</td>\n",
       "      <td>0.210165</td>\n",
       "      <td>0.008518</td>\n",
       "      <td>0.002674</td>\n",
       "    </tr>\n",
       "    <tr>\n",
       "      <th>2023-12-22</th>\n",
       "      <td>-0.006928</td>\n",
       "      <td>-0.002270</td>\n",
       "      <td>-0.010135</td>\n",
       "      <td>0.012000</td>\n",
       "    </tr>\n",
       "    <tr>\n",
       "      <th>2023-12-26</th>\n",
       "      <td>0.002326</td>\n",
       "      <td>0.045506</td>\n",
       "      <td>-0.017065</td>\n",
       "      <td>0.009223</td>\n",
       "    </tr>\n",
       "    <tr>\n",
       "      <th>2023-12-27</th>\n",
       "      <td>0.034803</td>\n",
       "      <td>0.051143</td>\n",
       "      <td>0.067708</td>\n",
       "      <td>0.018277</td>\n",
       "    </tr>\n",
       "    <tr>\n",
       "      <th>2023-12-28</th>\n",
       "      <td>0.004484</td>\n",
       "      <td>0.019669</td>\n",
       "      <td>0.003252</td>\n",
       "      <td>0.006410</td>\n",
       "    </tr>\n",
       "  </tbody>\n",
       "</table>\n",
       "<p>491 rows × 4 columns</p>\n",
       "</div>"
      ],
      "text/plain": [
       "              035420    196170    042700    005930\n",
       "날짜                                                \n",
       "2022-01-03       NaN       NaN       NaN       NaN\n",
       "2022-01-04 -0.027926 -0.033523 -0.023591  0.001272\n",
       "2022-01-05 -0.028728 -0.027735 -0.033557 -0.016518\n",
       "2022-01-06 -0.046479  0.001419 -0.027778 -0.006460\n",
       "2022-01-07 -0.001477  0.012826  0.028571  0.018205\n",
       "...              ...       ...       ...       ...\n",
       "2023-12-21 -0.018141  0.210165  0.008518  0.002674\n",
       "2023-12-22 -0.006928 -0.002270 -0.010135  0.012000\n",
       "2023-12-26  0.002326  0.045506 -0.017065  0.009223\n",
       "2023-12-27  0.034803  0.051143  0.067708  0.018277\n",
       "2023-12-28  0.004484  0.019669  0.003252  0.006410\n",
       "\n",
       "[491 rows x 4 columns]"
      ]
     },
     "execution_count": 2068,
     "metadata": {},
     "output_type": "execute_result"
    }
   ],
   "source": [
    "# 데일리 수익률\n",
    "daily_return = stock_df.pct_change(periods=1) # shift and percent 까지 해서 수익률 나옴.\n",
    "daily_return"
   ]
  },
  {
   "cell_type": "code",
   "execution_count": 2069,
   "metadata": {},
   "outputs": [
    {
     "data": {
      "text/plain": [
       "035420   -0.199957\n",
       "196170    0.447981\n",
       "042700    0.773682\n",
       "005930    0.023433\n",
       "dtype: float64"
      ]
     },
     "execution_count": 2069,
     "metadata": {},
     "output_type": "execute_result"
    }
   ],
   "source": [
    "# 리스크 점수 구하기 \n",
    "annual_return = daily_return.mean() * 252\n",
    "annual_return"
   ]
  },
  {
   "cell_type": "code",
   "execution_count": 2070,
   "metadata": {},
   "outputs": [
    {
     "data": {
      "text/html": [
       "<div>\n",
       "<style scoped>\n",
       "    .dataframe tbody tr th:only-of-type {\n",
       "        vertical-align: middle;\n",
       "    }\n",
       "\n",
       "    .dataframe tbody tr th {\n",
       "        vertical-align: top;\n",
       "    }\n",
       "\n",
       "    .dataframe thead th {\n",
       "        text-align: right;\n",
       "    }\n",
       "</style>\n",
       "<table border=\"1\" class=\"dataframe\">\n",
       "  <thead>\n",
       "    <tr style=\"text-align: right;\">\n",
       "      <th></th>\n",
       "      <th>035420</th>\n",
       "      <th>196170</th>\n",
       "      <th>042700</th>\n",
       "      <th>005930</th>\n",
       "    </tr>\n",
       "  </thead>\n",
       "  <tbody>\n",
       "    <tr>\n",
       "      <th>035420</th>\n",
       "      <td>0.000530</td>\n",
       "      <td>0.000309</td>\n",
       "      <td>0.000180</td>\n",
       "      <td>0.000151</td>\n",
       "    </tr>\n",
       "    <tr>\n",
       "      <th>196170</th>\n",
       "      <td>0.000309</td>\n",
       "      <td>0.001717</td>\n",
       "      <td>0.000213</td>\n",
       "      <td>0.000141</td>\n",
       "    </tr>\n",
       "    <tr>\n",
       "      <th>042700</th>\n",
       "      <td>0.000180</td>\n",
       "      <td>0.000213</td>\n",
       "      <td>0.001409</td>\n",
       "      <td>0.000180</td>\n",
       "    </tr>\n",
       "    <tr>\n",
       "      <th>005930</th>\n",
       "      <td>0.000151</td>\n",
       "      <td>0.000141</td>\n",
       "      <td>0.000180</td>\n",
       "      <td>0.000193</td>\n",
       "    </tr>\n",
       "  </tbody>\n",
       "</table>\n",
       "</div>"
      ],
      "text/plain": [
       "          035420    196170    042700    005930\n",
       "035420  0.000530  0.000309  0.000180  0.000151\n",
       "196170  0.000309  0.001717  0.000213  0.000141\n",
       "042700  0.000180  0.000213  0.001409  0.000180\n",
       "005930  0.000151  0.000141  0.000180  0.000193"
      ]
     },
     "execution_count": 2070,
     "metadata": {},
     "output_type": "execute_result"
    }
   ],
   "source": [
    "daily_cov = daily_return.cov()\n",
    "daily_cov"
   ]
  },
  {
   "cell_type": "code",
   "execution_count": 2071,
   "metadata": {},
   "outputs": [
    {
     "data": {
      "text/html": [
       "<div>\n",
       "<style scoped>\n",
       "    .dataframe tbody tr th:only-of-type {\n",
       "        vertical-align: middle;\n",
       "    }\n",
       "\n",
       "    .dataframe tbody tr th {\n",
       "        vertical-align: top;\n",
       "    }\n",
       "\n",
       "    .dataframe thead th {\n",
       "        text-align: right;\n",
       "    }\n",
       "</style>\n",
       "<table border=\"1\" class=\"dataframe\">\n",
       "  <thead>\n",
       "    <tr style=\"text-align: right;\">\n",
       "      <th></th>\n",
       "      <th>035420</th>\n",
       "      <th>196170</th>\n",
       "      <th>042700</th>\n",
       "      <th>005930</th>\n",
       "    </tr>\n",
       "  </thead>\n",
       "  <tbody>\n",
       "    <tr>\n",
       "      <th>035420</th>\n",
       "      <td>0.133467</td>\n",
       "      <td>0.077841</td>\n",
       "      <td>0.045385</td>\n",
       "      <td>0.038149</td>\n",
       "    </tr>\n",
       "    <tr>\n",
       "      <th>196170</th>\n",
       "      <td>0.077841</td>\n",
       "      <td>0.432791</td>\n",
       "      <td>0.053550</td>\n",
       "      <td>0.035591</td>\n",
       "    </tr>\n",
       "    <tr>\n",
       "      <th>042700</th>\n",
       "      <td>0.045385</td>\n",
       "      <td>0.053550</td>\n",
       "      <td>0.354968</td>\n",
       "      <td>0.045268</td>\n",
       "    </tr>\n",
       "    <tr>\n",
       "      <th>005930</th>\n",
       "      <td>0.038149</td>\n",
       "      <td>0.035591</td>\n",
       "      <td>0.045268</td>\n",
       "      <td>0.048534</td>\n",
       "    </tr>\n",
       "  </tbody>\n",
       "</table>\n",
       "</div>"
      ],
      "text/plain": [
       "          035420    196170    042700    005930\n",
       "035420  0.133467  0.077841  0.045385  0.038149\n",
       "196170  0.077841  0.432791  0.053550  0.035591\n",
       "042700  0.045385  0.053550  0.354968  0.045268\n",
       "005930  0.038149  0.035591  0.045268  0.048534"
      ]
     },
     "execution_count": 2071,
     "metadata": {},
     "output_type": "execute_result"
    }
   ],
   "source": [
    "annual_cov = daily_cov * 252\n",
    "annual_cov"
   ]
  },
  {
   "cell_type": "markdown",
   "metadata": {},
   "source": [
    "### 비율 생성과 정규화 "
   ]
  },
  {
   "cell_type": "code",
   "execution_count": 2072,
   "metadata": {},
   "outputs": [],
   "source": [
    "import numpy as np"
   ]
  },
  {
   "cell_type": "code",
   "execution_count": 2073,
   "metadata": {},
   "outputs": [
    {
     "data": {
      "text/plain": [
       "(array([0.91435611, 0.56814948, 0.94622006, 0.86759578]), numpy.ndarray, (4,))"
      ]
     },
     "execution_count": 2073,
     "metadata": {},
     "output_type": "execute_result"
    }
   ],
   "source": [
    "# 비율 랜덤 생성\n",
    "weights = np.random.random(len(symbols))\n",
    "weights, type(weights), weights.shape"
   ]
  },
  {
   "cell_type": "code",
   "execution_count": 2074,
   "metadata": {},
   "outputs": [
    {
     "data": {
      "text/plain": [
       "(array([0.27738682, 0.17235864, 0.28705333, 0.26320121]),\n",
       " numpy.ndarray,\n",
       " (4,),\n",
       " 0.9999999999999998)"
      ]
     },
     "execution_count": 2074,
     "metadata": {},
     "output_type": "execute_result"
    }
   ],
   "source": [
    "# 비율 정규화 \n",
    "weights = weights / np.sum(weights)\n",
    "weights, type(weights), weights.shape, np.sum(weights)"
   ]
  },
  {
   "cell_type": "code",
   "execution_count": 2075,
   "metadata": {},
   "outputs": [
    {
     "data": {
      "text/plain": [
       "(0.2500038194184491, numpy.float64)"
      ]
     },
     "execution_count": 2075,
     "metadata": {},
     "output_type": "execute_result"
    }
   ],
   "source": [
    "return_of_rate = np.dot(weights, annual_return)\n",
    "return_of_rate, type(return_of_rate) # y축 값 수익률 "
   ]
  },
  {
   "cell_type": "code",
   "execution_count": 2076,
   "metadata": {},
   "outputs": [
    {
     "data": {
      "text/plain": [
       "array([0.07350713, 0.12092665, 0.13562845, 0.04248502])"
      ]
     },
     "execution_count": 2076,
     "metadata": {},
     "output_type": "execute_result"
    }
   ],
   "source": [
    "np.dot(annual_cov, weights)"
   ]
  },
  {
   "cell_type": "code",
   "execution_count": 2077,
   "metadata": {},
   "outputs": [
    {
     "data": {
      "text/plain": [
       "0.09134736864586204"
      ]
     },
     "execution_count": 2077,
     "metadata": {},
     "output_type": "execute_result"
    }
   ],
   "source": [
    "np.dot(weights.T, np.dot(annual_cov, weights))"
   ]
  },
  {
   "cell_type": "code",
   "execution_count": 2078,
   "metadata": {},
   "outputs": [
    {
     "data": {
      "text/plain": [
       "(0.30223727209902823, numpy.float64)"
      ]
     },
     "execution_count": 2078,
     "metadata": {},
     "output_type": "execute_result"
    }
   ],
   "source": [
    "risk = np.sqrt(np.dot(weights.T, np.dot(annual_cov, weights)))\n",
    "risk, type(risk) # x축 값 리스크"
   ]
  },
  {
   "cell_type": "code",
   "execution_count": 2079,
   "metadata": {},
   "outputs": [],
   "source": [
    "# 여러 포트폴리오 비율 적용\n",
    "fiture_count = 10000\n",
    "portfolio_return_of_rate = []\n",
    "portfolio_risk = []\n",
    "portfolio_weights = []\n",
    "sharpe_ration = [] \n",
    "\n",
    "for num in range(fiture_count):\n",
    "    weights = np.random.random(len(symbols))\n",
    "    weights = weights / np.sum(weights)\n",
    "    return_of_rate = np.dot(weights, annual_return) # y\n",
    "    risk = np.sqrt(np.dot(weights.T, np.dot(annual_cov, weights))) # x\n",
    "\n",
    "    portfolio_return_of_rate.append(return_of_rate)\n",
    "    portfolio_risk.append(risk)\n",
    "    portfolio_weights.append(weights)\n",
    "    sharpe_ration.append(return_of_rate / risk)\n",
    "\n"
   ]
  },
  {
   "cell_type": "code",
   "execution_count": 2080,
   "metadata": {},
   "outputs": [
    {
     "data": {
      "text/html": [
       "<div>\n",
       "<style scoped>\n",
       "    .dataframe tbody tr th:only-of-type {\n",
       "        vertical-align: middle;\n",
       "    }\n",
       "\n",
       "    .dataframe tbody tr th {\n",
       "        vertical-align: top;\n",
       "    }\n",
       "\n",
       "    .dataframe thead th {\n",
       "        text-align: right;\n",
       "    }\n",
       "</style>\n",
       "<table border=\"1\" class=\"dataframe\">\n",
       "  <thead>\n",
       "    <tr style=\"text-align: right;\">\n",
       "      <th></th>\n",
       "      <th>Return_of_rate</th>\n",
       "      <th>Risk</th>\n",
       "      <th>Sharpe</th>\n",
       "      <th>035420</th>\n",
       "      <th>196170</th>\n",
       "      <th>042700</th>\n",
       "      <th>005930</th>\n",
       "    </tr>\n",
       "  </thead>\n",
       "  <tbody>\n",
       "    <tr>\n",
       "      <th>0</th>\n",
       "      <td>0.222376</td>\n",
       "      <td>0.319984</td>\n",
       "      <td>0.694961</td>\n",
       "      <td>0.156998</td>\n",
       "      <td>0.359012</td>\n",
       "      <td>0.108760</td>\n",
       "      <td>0.375230</td>\n",
       "    </tr>\n",
       "    <tr>\n",
       "      <th>1</th>\n",
       "      <td>0.408669</td>\n",
       "      <td>0.459538</td>\n",
       "      <td>0.889305</td>\n",
       "      <td>0.056534</td>\n",
       "      <td>0.630177</td>\n",
       "      <td>0.173708</td>\n",
       "      <td>0.139580</td>\n",
       "    </tr>\n",
       "    <tr>\n",
       "      <th>2</th>\n",
       "      <td>0.213431</td>\n",
       "      <td>0.333014</td>\n",
       "      <td>0.640906</td>\n",
       "      <td>0.267103</td>\n",
       "      <td>0.357364</td>\n",
       "      <td>0.130553</td>\n",
       "      <td>0.244980</td>\n",
       "    </tr>\n",
       "    <tr>\n",
       "      <th>3</th>\n",
       "      <td>0.108586</td>\n",
       "      <td>0.303418</td>\n",
       "      <td>0.357876</td>\n",
       "      <td>0.486572</td>\n",
       "      <td>0.190730</td>\n",
       "      <td>0.150449</td>\n",
       "      <td>0.172250</td>\n",
       "    </tr>\n",
       "    <tr>\n",
       "      <th>4</th>\n",
       "      <td>0.230498</td>\n",
       "      <td>0.302894</td>\n",
       "      <td>0.760986</td>\n",
       "      <td>0.117180</td>\n",
       "      <td>0.320111</td>\n",
       "      <td>0.129743</td>\n",
       "      <td>0.432966</td>\n",
       "    </tr>\n",
       "  </tbody>\n",
       "</table>\n",
       "</div>"
      ],
      "text/plain": [
       "   Return_of_rate      Risk    Sharpe    035420    196170    042700    005930\n",
       "0        0.222376  0.319984  0.694961  0.156998  0.359012  0.108760  0.375230\n",
       "1        0.408669  0.459538  0.889305  0.056534  0.630177  0.173708  0.139580\n",
       "2        0.213431  0.333014  0.640906  0.267103  0.357364  0.130553  0.244980\n",
       "3        0.108586  0.303418  0.357876  0.486572  0.190730  0.150449  0.172250\n",
       "4        0.230498  0.302894  0.760986  0.117180  0.320111  0.129743  0.432966"
      ]
     },
     "execution_count": 2080,
     "metadata": {},
     "output_type": "execute_result"
    }
   ],
   "source": [
    "# Convert Dataframe : Return of rate, Rist, weights\n",
    "portfolio = {\n",
    "    \"Return_of_rate\" : portfolio_return_of_rate,\n",
    "    \"Risk\" : portfolio_risk,\n",
    "    \"Sharpe\": sharpe_ration\n",
    "}\n",
    "\n",
    "for idx, symbol in enumerate(symbols):\n",
    "    portfolio[symbol] =  [weight[idx] for weight in portfolio_weights]\n",
    "\n",
    "\n",
    "df_portfolio = pd.DataFrame(portfolio)\n",
    "df_portfolio.head()"
   ]
  },
  {
   "cell_type": "code",
   "execution_count": 2081,
   "metadata": {},
   "outputs": [],
   "source": [
    "maxindex = df_portfolio['Sharpe'].idxmax()"
   ]
  },
  {
   "cell_type": "code",
   "execution_count": 2082,
   "metadata": {},
   "outputs": [
    {
     "data": {
      "text/plain": [
       "Return_of_rate    0.630467\n",
       "Risk              0.460865\n",
       "Sharpe            1.368009\n",
       "035420            0.019895\n",
       "196170            0.289991\n",
       "042700            0.650935\n",
       "005930            0.039179\n",
       "Name: 3844, dtype: float64"
      ]
     },
     "execution_count": 2082,
     "metadata": {},
     "output_type": "execute_result"
    }
   ],
   "source": [
    "df_portfolio.iloc[maxindex] # 가장 좋은 포트폴리오 "
   ]
  },
  {
   "cell_type": "code",
   "execution_count": 2083,
   "metadata": {},
   "outputs": [
    {
     "data": {
      "text/plain": [
       "Return_of_rate    0.058664\n",
       "Risk              0.221139\n",
       "Sharpe            0.265280\n",
       "035420            0.052307\n",
       "196170            0.082670\n",
       "042700            0.015752\n",
       "005930            0.849271\n",
       "Name: 6127, dtype: float64"
      ]
     },
     "execution_count": 2083,
     "metadata": {},
     "output_type": "execute_result"
    }
   ],
   "source": [
    "# 위험도 감소\n",
    "minindex = df_portfolio['Risk'].idxmin()\n",
    "df_portfolio.iloc[minindex] # 가장 안전한 포트폴리오 "
   ]
  },
  {
   "cell_type": "code",
   "execution_count": 2084,
   "metadata": {},
   "outputs": [
    {
     "data": {
      "text/plain": [
       "Return_of_rate    0.724634\n",
       "Risk              0.545295\n",
       "Sharpe            1.328885\n",
       "035420            0.010186\n",
       "196170            0.072692\n",
       "042700            0.896523\n",
       "005930            0.020600\n",
       "Name: 1379, dtype: float64"
      ]
     },
     "execution_count": 2084,
     "metadata": {},
     "output_type": "execute_result"
    }
   ],
   "source": [
    "# max 수익률\n",
    "maxindex_return = df_portfolio['Return_of_rate'].idxmax()\n",
    "df_portfolio.iloc[maxindex_return] # 가장 안전한 포트폴리오 "
   ]
  },
  {
   "cell_type": "markdown",
   "metadata": {},
   "source": [
    "### Chart 작성"
   ]
  },
  {
   "cell_type": "code",
   "execution_count": 2085,
   "metadata": {},
   "outputs": [],
   "source": [
    "import matplotlib.pyplot as plt\n",
    "import matplotlib as mpl # 한글 폰트 설정 (NanumGothic) \n",
    "mpl.rcParams['font.family'] = 'NanumGothic'\n",
    "mpl.rcParams['axes.unicode_minus'] = False  # 마이너스 기호 깨짐 방지"
   ]
  },
  {
   "cell_type": "code",
   "execution_count": 2086,
   "metadata": {},
   "outputs": [
    {
     "data": {
      "image/png": "[encoded data removed]",
      "text/plain": [
       "<Figure size 1400x900 with 1 Axes>"
      ]
     },
     "metadata": {},
     "output_type": "display_data"
    }
   ],
   "source": [
    "plt.figure(figsize=(14,9), dpi=100)\n",
    "plt.scatter(df_portfolio['Risk'], df_portfolio['Return_of_rate'])\n",
    "plt.scatter(df_portfolio['Risk'].iloc[maxindex], df_portfolio['Return_of_rate'].iloc[maxindex])\n",
    "plt.scatter(df_portfolio['Risk'].iloc[minindex], df_portfolio['Return_of_rate'].iloc[minindex])\n",
    "plt.scatter(df_portfolio['Risk'].iloc[maxindex_return], df_portfolio['Return_of_rate'].iloc[maxindex_return])\n",
    "plt.show()\n",
    "# 최외곽에 가까운 지점의 weight 만큼 종목에 투자"
   ]
  },
  {
   "cell_type": "code",
   "execution_count": null,
   "metadata": {},
   "outputs": [],
   "source": []
  }
 ],
 "metadata": {
  "kernelspec": {
   "display_name": "Python 3",
   "language": "python",
   "name": "python3"
  },
  "language_info": {
   "codemirror_mode": {
    "name": "ipython",
    "version": 3
   },
   "file_extension": ".py",
   "mimetype": "text/x-python",
   "name": "python",
   "nbconvert_exporter": "python",
   "pygments_lexer": "ipython3",
   "version": "3.11.11"
  }
 },
 "nbformat": 4,
 "nbformat_minor": 2
}
