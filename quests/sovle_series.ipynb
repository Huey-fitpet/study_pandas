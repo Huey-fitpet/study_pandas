{
 "cells": [
  {
   "cell_type": "markdown",
   "metadata": {},
   "source": [
    "---\n",
    "<small>\n",
    "문제\n",
    "\n",
    "주어진 데이터는 회사의 직원 ID, 이름, 월급, 부서 정보입니다. 각 데이터는 다음과 같은 형식으로 주어집니다:\n",
    "\n",
    "```python\n",
    "코드 복사\n",
    "employee_ids = [101, 102, 103, 104, 105]\n",
    "names = [\"Alice\", \"Bob\", \"Charlie\", \"David\", \"Eva\"]\n",
    "salaries = [70000, 80000, 120000, 90000, 110000]\n",
    "departments = [\"HR\", \"IT\", \"Finance\", \"IT\", \"Finance\"]\n",
    "```\n",
    "</small>\n",
    "\n",
    "---"
   ]
  },
  {
   "cell_type": "code",
   "execution_count": 1,
   "metadata": {},
   "outputs": [],
   "source": [
    "import pandas as pd"
   ]
  },
  {
   "cell_type": "code",
   "execution_count": 2,
   "metadata": {},
   "outputs": [],
   "source": [
    "employee_ids = [101, 102, 103, 104, 105]\n",
    "names = [\"Alice\", \"Bob\", \"Charlie\", \"David\", \"Eva\"]\n",
    "salaries = [70000, 80000, 120000, 90000, 110000]\n",
    "departments = [\"HR\", \"IT\", \"Finance\", \"IT\", \"Finance\"]"
   ]
  },
  {
   "cell_type": "markdown",
   "metadata": {},
   "source": [
    "---\n",
    "<small>\n",
    "Series 생성:\n",
    "직원 ID를 인덱스로 사용하고, 직원 이름을 값으로 갖는 Series를 생성하세요.\n",
    "직원 ID를 인덱스로 사용하고, 월급을 값으로 갖는 Series를 생성하세요.\n",
    "</small>\n",
    "\n",
    "---"
   ]
  },
  {
   "cell_type": "code",
   "execution_count": 3,
   "metadata": {},
   "outputs": [
    {
     "data": {
      "text/plain": [
       "(101      Alice\n",
       " 102        Bob\n",
       " 103    Charlie\n",
       " 104      David\n",
       " 105        Eva\n",
       " dtype: object,\n",
       " 101     70000\n",
       " 102     80000\n",
       " 103    120000\n",
       " 104     90000\n",
       " 105    110000\n",
       " dtype: int64)"
      ]
     },
     "execution_count": 3,
     "metadata": {},
     "output_type": "execute_result"
    }
   ],
   "source": [
    "series_names = pd.Series(data=names, index=employee_ids)\n",
    "series_salaries = pd.Series(data=salaries, index=employee_ids)\n",
    "series_names, series_salaries"
   ]
  },
  {
   "cell_type": "markdown",
   "metadata": {},
   "source": [
    "---\n",
    "<small>\n",
    "연산 및 필터링:\n",
    "월급이 90,000 이상인 직원들의 이름과 월급을 출력하세요.\n",
    "월급의 평균을 계산하세요.\n",
    "월급이 평균 이상인 직원들의 이름을 출력하세요.\n",
    "</small>\n",
    "\n",
    "---"
   ]
  },
  {
   "cell_type": "code",
   "execution_count": 4,
   "metadata": {},
   "outputs": [
    {
     "data": {
      "text/plain": [
       "(103    Charlie\n",
       " 104      David\n",
       " 105        Eva\n",
       " dtype: object,\n",
       " 103    120000\n",
       " 104     90000\n",
       " 105    110000\n",
       " dtype: int64)"
      ]
     },
     "execution_count": 4,
     "metadata": {},
     "output_type": "execute_result"
    }
   ],
   "source": [
    "salary_conditions = series_salaries >= 90000\n",
    "series_names[salary_conditions], series_salaries[salary_conditions]"
   ]
  },
  {
   "cell_type": "code",
   "execution_count": 5,
   "metadata": {},
   "outputs": [
    {
     "data": {
      "text/plain": [
       "94000.0"
      ]
     },
     "execution_count": 5,
     "metadata": {},
     "output_type": "execute_result"
    }
   ],
   "source": [
    "series_salaries.mean()"
   ]
  },
  {
   "cell_type": "code",
   "execution_count": 8,
   "metadata": {},
   "outputs": [
    {
     "data": {
      "text/plain": [
       "(103    Charlie\n",
       " 105        Eva\n",
       " dtype: object,\n",
       " 103    120000\n",
       " 105    110000\n",
       " dtype: int64)"
      ]
     },
     "execution_count": 8,
     "metadata": {},
     "output_type": "execute_result"
    }
   ],
   "source": [
    "salary_mean_gte = series_salaries >= series_salaries.mean()\n",
    "series_names[salary_mean_gte], series_salaries[salary_mean_gte]"
   ]
  },
  {
   "cell_type": "markdown",
   "metadata": {},
   "source": [
    "---\n",
    "<small>\n",
    "데이터 변환:\n",
    "부서 정보를 Series로 변환하여 직원 ID를 인덱스로 설정하세요.\n",
    "월급과 부서 정보를 결합하여 각 직원의 월급과 부서를 표시하는 새로운 Series를 생성하세요.\n",
    "예:\n",
    "arduino\n",
    "코드 복사\n",
    "101: \"70000, HR\"\n",
    "102: \"80000, IT\"\n",
    "</small>\n",
    "\n",
    "---"
   ]
  },
  {
   "cell_type": "code",
   "execution_count": 11,
   "metadata": {},
   "outputs": [
    {
     "data": {
      "text/plain": [
       "101          70000, HR\n",
       "102          80000, IT\n",
       "103    120000, Finance\n",
       "104          90000, IT\n",
       "105    110000, Finance\n",
       "dtype: object"
      ]
     },
     "execution_count": 11,
     "metadata": {},
     "output_type": "execute_result"
    }
   ],
   "source": [
    "series_departments = pd.Series(data=departments, index=employee_ids)\n",
    "\n",
    "series_salrary_department = pd.Series(dtype=\"object\")\n",
    "\n",
    "for index in employee_ids:\n",
    "    series_salrary_department.loc[index] = f'{series_salaries.loc[index]}, {series_departments.loc[index]}'\n",
    "#.loc['A'] = 1\n",
    "series_salrary_department"
   ]
  },
  {
   "cell_type": "markdown",
   "metadata": {},
   "source": [
    "---\n",
    "<small>\n",
    "응용:\n",
    "월급을 10% 인상한 값을 반영한 새로운 Series를 생성하세요.\n",
    "직원 이름을 대문자로 변환한 새로운 Series를 생성하세요.\n",
    "직원 중 IT 부서에 속한 사람들의 월급 총합을 계산하세요.\n",
    "</small>\n",
    "\n",
    "---"
   ]
  },
  {
   "cell_type": "code",
   "execution_count": 12,
   "metadata": {},
   "outputs": [
    {
     "data": {
      "text/plain": [
       "101     77000.0\n",
       "102     88000.0\n",
       "103    132000.0\n",
       "104     99000.0\n",
       "105    121000.0\n",
       "dtype: float64"
      ]
     },
     "execution_count": 12,
     "metadata": {},
     "output_type": "execute_result"
    }
   ],
   "source": [
    "series_salrary_increase = series_salaries + (series_salaries*0.1)\n",
    "series_salrary_increase"
   ]
  },
  {
   "cell_type": "code",
   "execution_count": 14,
   "metadata": {},
   "outputs": [
    {
     "data": {
      "text/plain": [
       "101      ALICE\n",
       "102        BOB\n",
       "103    CHARLIE\n",
       "104      DAVID\n",
       "105        EVA\n",
       "dtype: object"
      ]
     },
     "execution_count": 14,
     "metadata": {},
     "output_type": "execute_result"
    }
   ],
   "source": [
    "series_names_upper = series_names.str.upper()\n",
    "series_names_upper"
   ]
  },
  {
   "cell_type": "code",
   "execution_count": 17,
   "metadata": {},
   "outputs": [
    {
     "data": {
      "text/plain": [
       "(102    80000\n",
       " 104    90000\n",
       " dtype: int64,\n",
       " 170000)"
      ]
     },
     "execution_count": 17,
     "metadata": {},
     "output_type": "execute_result"
    }
   ],
   "source": [
    "series_salaries[series_departments == \"IT\"], series_salaries[series_departments == \"IT\"].sum()"
   ]
  }
 ],
 "metadata": {
  "kernelspec": {
   "display_name": "Python 3",
   "language": "python",
   "name": "python3"
  },
  "language_info": {
   "codemirror_mode": {
    "name": "ipython",
    "version": 3
   },
   "file_extension": ".py",
   "mimetype": "text/x-python",
   "name": "python",
   "nbconvert_exporter": "python",
   "pygments_lexer": "ipython3",
   "version": "3.11.11"
  }
 },
 "nbformat": 4,
 "nbformat_minor": 2
}
