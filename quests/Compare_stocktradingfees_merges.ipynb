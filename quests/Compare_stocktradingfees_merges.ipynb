{
 "cells": [
  {
   "cell_type": "code",
   "execution_count": 10,
   "metadata": {},
   "outputs": [],
   "source": [
    "import pandas as pd \n",
    "import os\n",
    "\n",
    "def merge_func(file_path, file_name):\n",
    "    \"\"\"\n",
    "    지정된 경로에서 특정 파일 이름이 포함된 모든 Excel 파일을 찾아서 하나의 DataFrame으로 합칩니다.\n",
    "    \n",
    "    Parameters:\n",
    "    file_path (str): 검색할 디렉토리 경로\n",
    "    file_name (str): 찾을 파일 이름의 일부\n",
    "    \n",
    "    Returns:\n",
    "    pd.DataFrame: 합쳐진 DataFrame\n",
    "    \"\"\"\n",
    "    df_total = pd.DataFrame()\n",
    "    \n",
    "    try:\n",
    "        # 디렉토리 내의 모든 파일 검색\n",
    "        for file in os.listdir(file_path):\n",
    "            # 파일이 Excel 파일이고 지정된 이름을 포함하는지 확인\n",
    "            if (file.endswith('.xlsx') or file.endswith('.xls')) and file_name.lower() in file.lower():\n",
    "                # 전체 파일 경로 생성\n",
    "                full_path = os.path.join(file_path, file)\n",
    "                \n",
    "                try:\n",
    "                    # Excel 파일 읽기\n",
    "                    df_xlsx = pd.read_excel(io=full_path, header=2)\n",
    "                    \n",
    "                    # DataFrame 합치기\n",
    "                    df_total = pd.concat([df_total, df_xlsx], axis=0, ignore_index=True)\n",
    "                    \n",
    "                except Exception as e:\n",
    "                    print(f\"파일 '{file}' 읽기 중 오류 발생: {str(e)}\")\n",
    "                    continue\n",
    "        \n",
    "        if df_total.empty:\n",
    "            print(f\"'{file_name}'이 포함된 Excel 파일을 찾을 수 없습니다.\")\n",
    "            \n",
    "        return df_total\n",
    "    \n",
    "    except Exception as e:\n",
    "        print(f\"오류 발생: {str(e)}\")\n",
    "        return pd.DataFrame()"
   ]
  },
  {
   "cell_type": "code",
   "execution_count": 14,
   "metadata": {},
   "outputs": [],
   "source": [
    "\n",
    "df_data = merge_func(f\"../datasets/\", f\"주식거래 수수료\").sort_values(by=[\"구분\"],ascending=[True])"
   ]
  },
  {
   "cell_type": "code",
   "execution_count": 13,
   "metadata": {},
   "outputs": [
    {
     "name": "stdout",
     "output_type": "stream",
     "text": [
      "Requirement already satisfied: pymongo in /usr/local/lib/python3.11/site-packages (4.10.1)\n",
      "Requirement already satisfied: dnspython<3.0.0,>=1.16.0 in /usr/local/lib/python3.11/site-packages (from pymongo) (2.7.0)\n",
      "\u001b[33mWARNING: Running pip as the 'root' user can result in broken permissions and conflicting behaviour with the system package manager. It is recommended to use a virtual environment instead: https://pip.pypa.io/warnings/venv\u001b[0m\u001b[33m\n",
      "\u001b[0m\n",
      "\u001b[1m[\u001b[0m\u001b[34;49mnotice\u001b[0m\u001b[1;39;49m]\u001b[0m\u001b[39;49m A new release of pip is available: \u001b[0m\u001b[31;49m24.0\u001b[0m\u001b[39;49m -> \u001b[0m\u001b[32;49m24.3.1\u001b[0m\n",
      "\u001b[1m[\u001b[0m\u001b[34;49mnotice\u001b[0m\u001b[1;39;49m]\u001b[0m\u001b[39;49m To update, run: \u001b[0m\u001b[32;49mpip install --upgrade pip\u001b[0m\n"
     ]
    }
   ],
   "source": [
    "!pip install pymongo"
   ]
  },
  {
   "cell_type": "code",
   "execution_count": 18,
   "metadata": {},
   "outputs": [
    {
     "data": {
      "text/plain": [
       "InsertManyResult([ObjectId('67611223dde821a3a3d65747'), ObjectId('67611223dde821a3a3d65748'), ObjectId('67611223dde821a3a3d65749'), ObjectId('67611223dde821a3a3d6574a'), ObjectId('67611223dde821a3a3d6574b'), ObjectId('67611223dde821a3a3d6574c'), ObjectId('67611223dde821a3a3d6574d'), ObjectId('67611223dde821a3a3d6574e'), ObjectId('67611223dde821a3a3d6574f'), ObjectId('67611223dde821a3a3d65750'), ObjectId('67611223dde821a3a3d65751'), ObjectId('67611223dde821a3a3d65752'), ObjectId('67611223dde821a3a3d65753'), ObjectId('67611223dde821a3a3d65754'), ObjectId('67611223dde821a3a3d65755'), ObjectId('67611223dde821a3a3d65756'), ObjectId('67611223dde821a3a3d65757'), ObjectId('67611223dde821a3a3d65758'), ObjectId('67611223dde821a3a3d65759'), ObjectId('67611223dde821a3a3d6575a'), ObjectId('67611223dde821a3a3d6575b'), ObjectId('67611223dde821a3a3d6575c'), ObjectId('67611223dde821a3a3d6575d'), ObjectId('67611223dde821a3a3d6575e'), ObjectId('67611223dde821a3a3d6575f'), ObjectId('67611223dde821a3a3d65760'), ObjectId('67611223dde821a3a3d65761'), ObjectId('67611223dde821a3a3d65762'), ObjectId('67611223dde821a3a3d65763'), ObjectId('67611223dde821a3a3d65764'), ObjectId('67611223dde821a3a3d65765'), ObjectId('67611223dde821a3a3d65766'), ObjectId('67611223dde821a3a3d65767'), ObjectId('67611223dde821a3a3d65768'), ObjectId('67611223dde821a3a3d65769'), ObjectId('67611223dde821a3a3d6576a'), ObjectId('67611223dde821a3a3d6576b'), ObjectId('67611223dde821a3a3d6576c'), ObjectId('67611223dde821a3a3d6576d'), ObjectId('67611223dde821a3a3d6576e'), ObjectId('67611223dde821a3a3d6576f'), ObjectId('67611223dde821a3a3d65770'), ObjectId('67611223dde821a3a3d65771'), ObjectId('67611223dde821a3a3d65772'), ObjectId('67611223dde821a3a3d65773'), ObjectId('67611223dde821a3a3d65774'), ObjectId('67611223dde821a3a3d65775'), ObjectId('67611223dde821a3a3d65776'), ObjectId('67611223dde821a3a3d65777'), ObjectId('67611223dde821a3a3d65778'), ObjectId('67611223dde821a3a3d65779'), ObjectId('67611223dde821a3a3d6577a'), ObjectId('67611223dde821a3a3d6577b'), ObjectId('67611223dde821a3a3d6577c'), ObjectId('67611223dde821a3a3d6577d'), ObjectId('67611223dde821a3a3d6577e'), ObjectId('67611223dde821a3a3d6577f'), ObjectId('67611223dde821a3a3d65780'), ObjectId('67611223dde821a3a3d65781'), ObjectId('67611223dde821a3a3d65782'), ObjectId('67611223dde821a3a3d65783'), ObjectId('67611223dde821a3a3d65784'), ObjectId('67611223dde821a3a3d65785'), ObjectId('67611223dde821a3a3d65786'), ObjectId('67611223dde821a3a3d65787'), ObjectId('67611223dde821a3a3d65788'), ObjectId('67611223dde821a3a3d65789'), ObjectId('67611223dde821a3a3d6578a'), ObjectId('67611223dde821a3a3d6578b'), ObjectId('67611223dde821a3a3d6578c'), ObjectId('67611223dde821a3a3d6578d'), ObjectId('67611223dde821a3a3d6578e'), ObjectId('67611223dde821a3a3d6578f'), ObjectId('67611223dde821a3a3d65790'), ObjectId('67611223dde821a3a3d65791'), ObjectId('67611223dde821a3a3d65792'), ObjectId('67611223dde821a3a3d65793'), ObjectId('67611223dde821a3a3d65794'), ObjectId('67611223dde821a3a3d65795'), ObjectId('67611223dde821a3a3d65796'), ObjectId('67611223dde821a3a3d65797'), ObjectId('67611223dde821a3a3d65798'), ObjectId('67611223dde821a3a3d65799'), ObjectId('67611223dde821a3a3d6579a'), ObjectId('67611223dde821a3a3d6579b'), ObjectId('67611223dde821a3a3d6579c'), ObjectId('67611223dde821a3a3d6579d'), ObjectId('67611223dde821a3a3d6579e'), ObjectId('67611223dde821a3a3d6579f'), ObjectId('67611223dde821a3a3d657a0'), ObjectId('67611223dde821a3a3d657a1'), ObjectId('67611223dde821a3a3d657a2'), ObjectId('67611223dde821a3a3d657a3'), ObjectId('67611223dde821a3a3d657a4'), ObjectId('67611223dde821a3a3d657a5'), ObjectId('67611223dde821a3a3d657a6'), ObjectId('67611223dde821a3a3d657a7'), ObjectId('67611223dde821a3a3d657a8'), ObjectId('67611223dde821a3a3d657a9'), ObjectId('67611223dde821a3a3d657aa'), ObjectId('67611223dde821a3a3d657ab'), ObjectId('67611223dde821a3a3d657ac'), ObjectId('67611223dde821a3a3d657ad'), ObjectId('67611223dde821a3a3d657ae'), ObjectId('67611223dde821a3a3d657af'), ObjectId('67611223dde821a3a3d657b0'), ObjectId('67611223dde821a3a3d657b1'), ObjectId('67611223dde821a3a3d657b2'), ObjectId('67611223dde821a3a3d657b3'), ObjectId('67611223dde821a3a3d657b4'), ObjectId('67611223dde821a3a3d657b5'), ObjectId('67611223dde821a3a3d657b6'), ObjectId('67611223dde821a3a3d657b7'), ObjectId('67611223dde821a3a3d657b8'), ObjectId('67611223dde821a3a3d657b9'), ObjectId('67611223dde821a3a3d657ba'), ObjectId('67611223dde821a3a3d657bb'), ObjectId('67611223dde821a3a3d657bc'), ObjectId('67611223dde821a3a3d657bd'), ObjectId('67611223dde821a3a3d657be'), ObjectId('67611223dde821a3a3d657bf'), ObjectId('67611223dde821a3a3d657c0'), ObjectId('67611223dde821a3a3d657c1'), ObjectId('67611223dde821a3a3d657c2'), ObjectId('67611223dde821a3a3d657c3'), ObjectId('67611223dde821a3a3d657c4'), ObjectId('67611223dde821a3a3d657c5'), ObjectId('67611223dde821a3a3d657c6'), ObjectId('67611223dde821a3a3d657c7'), ObjectId('67611223dde821a3a3d657c8'), ObjectId('67611223dde821a3a3d657c9'), ObjectId('67611223dde821a3a3d657ca'), ObjectId('67611223dde821a3a3d657cb'), ObjectId('67611223dde821a3a3d657cc'), ObjectId('67611223dde821a3a3d657cd'), ObjectId('67611223dde821a3a3d657ce'), ObjectId('67611223dde821a3a3d657cf'), ObjectId('67611223dde821a3a3d657d0'), ObjectId('67611223dde821a3a3d657d1'), ObjectId('67611223dde821a3a3d657d2'), ObjectId('67611223dde821a3a3d657d3'), ObjectId('67611223dde821a3a3d657d4'), ObjectId('67611223dde821a3a3d657d5'), ObjectId('67611223dde821a3a3d657d6'), ObjectId('67611223dde821a3a3d657d7'), ObjectId('67611223dde821a3a3d657d8'), ObjectId('67611223dde821a3a3d657d9'), ObjectId('67611223dde821a3a3d657da'), ObjectId('67611223dde821a3a3d657db'), ObjectId('67611223dde821a3a3d657dc'), ObjectId('67611223dde821a3a3d657dd'), ObjectId('67611223dde821a3a3d657de'), ObjectId('67611223dde821a3a3d657df'), ObjectId('67611223dde821a3a3d657e0'), ObjectId('67611223dde821a3a3d657e1'), ObjectId('67611223dde821a3a3d657e2'), ObjectId('67611223dde821a3a3d657e3'), ObjectId('67611223dde821a3a3d657e4'), ObjectId('67611223dde821a3a3d657e5'), ObjectId('67611223dde821a3a3d657e6'), ObjectId('67611223dde821a3a3d657e7'), ObjectId('67611223dde821a3a3d657e8'), ObjectId('67611223dde821a3a3d657e9'), ObjectId('67611223dde821a3a3d657ea'), ObjectId('67611223dde821a3a3d657eb'), ObjectId('67611223dde821a3a3d657ec'), ObjectId('67611223dde821a3a3d657ed'), ObjectId('67611223dde821a3a3d657ee'), ObjectId('67611223dde821a3a3d657ef'), ObjectId('67611223dde821a3a3d657f0'), ObjectId('67611223dde821a3a3d657f1'), ObjectId('67611223dde821a3a3d657f2'), ObjectId('67611223dde821a3a3d657f3'), ObjectId('67611223dde821a3a3d657f4'), ObjectId('67611223dde821a3a3d657f5'), ObjectId('67611223dde821a3a3d657f6'), ObjectId('67611223dde821a3a3d657f7'), ObjectId('67611223dde821a3a3d657f8'), ObjectId('67611223dde821a3a3d657f9'), ObjectId('67611223dde821a3a3d657fa'), ObjectId('67611223dde821a3a3d657fb'), ObjectId('67611223dde821a3a3d657fc'), ObjectId('67611223dde821a3a3d657fd'), ObjectId('67611223dde821a3a3d657fe'), ObjectId('67611223dde821a3a3d657ff'), ObjectId('67611223dde821a3a3d65800'), ObjectId('67611223dde821a3a3d65801'), ObjectId('67611223dde821a3a3d65802'), ObjectId('67611223dde821a3a3d65803'), ObjectId('67611223dde821a3a3d65804'), ObjectId('67611223dde821a3a3d65805'), ObjectId('67611223dde821a3a3d65806'), ObjectId('67611223dde821a3a3d65807'), ObjectId('67611223dde821a3a3d65808'), ObjectId('67611223dde821a3a3d65809'), ObjectId('67611223dde821a3a3d6580a'), ObjectId('67611223dde821a3a3d6580b'), ObjectId('67611223dde821a3a3d6580c'), ObjectId('67611223dde821a3a3d6580d'), ObjectId('67611223dde821a3a3d6580e'), ObjectId('67611223dde821a3a3d6580f'), ObjectId('67611223dde821a3a3d65810'), ObjectId('67611223dde821a3a3d65811'), ObjectId('67611223dde821a3a3d65812'), ObjectId('67611223dde821a3a3d65813'), ObjectId('67611223dde821a3a3d65814'), ObjectId('67611223dde821a3a3d65815'), ObjectId('67611223dde821a3a3d65816'), ObjectId('67611223dde821a3a3d65817'), ObjectId('67611223dde821a3a3d65818'), ObjectId('67611223dde821a3a3d65819'), ObjectId('67611223dde821a3a3d6581a'), ObjectId('67611223dde821a3a3d6581b'), ObjectId('67611223dde821a3a3d6581c'), ObjectId('67611223dde821a3a3d6581d'), ObjectId('67611223dde821a3a3d6581e'), ObjectId('67611223dde821a3a3d6581f'), ObjectId('67611223dde821a3a3d65820'), ObjectId('67611223dde821a3a3d65821'), ObjectId('67611223dde821a3a3d65822'), ObjectId('67611223dde821a3a3d65823'), ObjectId('67611223dde821a3a3d65824'), ObjectId('67611223dde821a3a3d65825'), ObjectId('67611223dde821a3a3d65826'), ObjectId('67611223dde821a3a3d65827'), ObjectId('67611223dde821a3a3d65828'), ObjectId('67611223dde821a3a3d65829'), ObjectId('67611223dde821a3a3d6582a'), ObjectId('67611223dde821a3a3d6582b'), ObjectId('67611223dde821a3a3d6582c'), ObjectId('67611223dde821a3a3d6582d'), ObjectId('67611223dde821a3a3d6582e'), ObjectId('67611223dde821a3a3d6582f'), ObjectId('67611223dde821a3a3d65830'), ObjectId('67611223dde821a3a3d65831'), ObjectId('67611223dde821a3a3d65832'), ObjectId('67611223dde821a3a3d65833'), ObjectId('67611223dde821a3a3d65834'), ObjectId('67611223dde821a3a3d65835'), ObjectId('67611223dde821a3a3d65836'), ObjectId('67611223dde821a3a3d65837'), ObjectId('67611223dde821a3a3d65838'), ObjectId('67611223dde821a3a3d65839'), ObjectId('67611223dde821a3a3d6583a'), ObjectId('67611223dde821a3a3d6583b'), ObjectId('67611223dde821a3a3d6583c'), ObjectId('67611223dde821a3a3d6583d'), ObjectId('67611223dde821a3a3d6583e'), ObjectId('67611223dde821a3a3d6583f'), ObjectId('67611223dde821a3a3d65840'), ObjectId('67611223dde821a3a3d65841'), ObjectId('67611223dde821a3a3d65842'), ObjectId('67611223dde821a3a3d65843'), ObjectId('67611223dde821a3a3d65844'), ObjectId('67611223dde821a3a3d65845'), ObjectId('67611223dde821a3a3d65846'), ObjectId('67611223dde821a3a3d65847'), ObjectId('67611223dde821a3a3d65848'), ObjectId('67611223dde821a3a3d65849'), ObjectId('67611223dde821a3a3d6584a'), ObjectId('67611223dde821a3a3d6584b'), ObjectId('67611223dde821a3a3d6584c'), ObjectId('67611223dde821a3a3d6584d'), ObjectId('67611223dde821a3a3d6584e'), ObjectId('67611223dde821a3a3d6584f'), ObjectId('67611223dde821a3a3d65850'), ObjectId('67611223dde821a3a3d65851'), ObjectId('67611223dde821a3a3d65852'), ObjectId('67611223dde821a3a3d65853'), ObjectId('67611223dde821a3a3d65854'), ObjectId('67611223dde821a3a3d65855'), ObjectId('67611223dde821a3a3d65856'), ObjectId('67611223dde821a3a3d65857'), ObjectId('67611223dde821a3a3d65858'), ObjectId('67611223dde821a3a3d65859'), ObjectId('67611223dde821a3a3d6585a'), ObjectId('67611223dde821a3a3d6585b'), ObjectId('67611223dde821a3a3d6585c'), ObjectId('67611223dde821a3a3d6585d'), ObjectId('67611223dde821a3a3d6585e'), ObjectId('67611223dde821a3a3d6585f'), ObjectId('67611223dde821a3a3d65860'), ObjectId('67611223dde821a3a3d65861'), ObjectId('67611223dde821a3a3d65862'), ObjectId('67611223dde821a3a3d65863'), ObjectId('67611223dde821a3a3d65864'), ObjectId('67611223dde821a3a3d65865'), ObjectId('67611223dde821a3a3d65866'), ObjectId('67611223dde821a3a3d65867'), ObjectId('67611223dde821a3a3d65868'), ObjectId('67611223dde821a3a3d65869'), ObjectId('67611223dde821a3a3d6586a'), ObjectId('67611223dde821a3a3d6586b'), ObjectId('67611223dde821a3a3d6586c'), ObjectId('67611223dde821a3a3d6586d'), ObjectId('67611223dde821a3a3d6586e'), ObjectId('67611223dde821a3a3d6586f'), ObjectId('67611223dde821a3a3d65870'), ObjectId('67611223dde821a3a3d65871'), ObjectId('67611223dde821a3a3d65872'), ObjectId('67611223dde821a3a3d65873'), ObjectId('67611223dde821a3a3d65874'), ObjectId('67611223dde821a3a3d65875'), ObjectId('67611223dde821a3a3d65876'), ObjectId('67611223dde821a3a3d65877'), ObjectId('67611223dde821a3a3d65878'), ObjectId('67611223dde821a3a3d65879'), ObjectId('67611223dde821a3a3d6587a'), ObjectId('67611223dde821a3a3d6587b'), ObjectId('67611223dde821a3a3d6587c'), ObjectId('67611223dde821a3a3d6587d'), ObjectId('67611223dde821a3a3d6587e'), ObjectId('67611223dde821a3a3d6587f'), ObjectId('67611223dde821a3a3d65880'), ObjectId('67611223dde821a3a3d65881'), ObjectId('67611223dde821a3a3d65882'), ObjectId('67611223dde821a3a3d65883'), ObjectId('67611223dde821a3a3d65884'), ObjectId('67611223dde821a3a3d65885'), ObjectId('67611223dde821a3a3d65886'), ObjectId('67611223dde821a3a3d65887'), ObjectId('67611223dde821a3a3d65888'), ObjectId('67611223dde821a3a3d65889'), ObjectId('67611223dde821a3a3d6588a'), ObjectId('67611223dde821a3a3d6588b'), ObjectId('67611223dde821a3a3d6588c'), ObjectId('67611223dde821a3a3d6588d'), ObjectId('67611223dde821a3a3d6588e'), ObjectId('67611223dde821a3a3d6588f'), ObjectId('67611223dde821a3a3d65890'), ObjectId('67611223dde821a3a3d65891'), ObjectId('67611223dde821a3a3d65892'), ObjectId('67611223dde821a3a3d65893'), ObjectId('67611223dde821a3a3d65894'), ObjectId('67611223dde821a3a3d65895'), ObjectId('67611223dde821a3a3d65896'), ObjectId('67611223dde821a3a3d65897'), ObjectId('67611223dde821a3a3d65898'), ObjectId('67611223dde821a3a3d65899'), ObjectId('67611223dde821a3a3d6589a'), ObjectId('67611223dde821a3a3d6589b'), ObjectId('67611223dde821a3a3d6589c'), ObjectId('67611223dde821a3a3d6589d'), ObjectId('67611223dde821a3a3d6589e'), ObjectId('67611223dde821a3a3d6589f'), ObjectId('67611223dde821a3a3d658a0'), ObjectId('67611223dde821a3a3d658a1'), ObjectId('67611223dde821a3a3d658a2'), ObjectId('67611223dde821a3a3d658a3'), ObjectId('67611223dde821a3a3d658a4'), ObjectId('67611223dde821a3a3d658a5'), ObjectId('67611223dde821a3a3d658a6'), ObjectId('67611223dde821a3a3d658a7'), ObjectId('67611223dde821a3a3d658a8'), ObjectId('67611223dde821a3a3d658a9'), ObjectId('67611223dde821a3a3d658aa'), ObjectId('67611223dde821a3a3d658ab'), ObjectId('67611223dde821a3a3d658ac'), ObjectId('67611223dde821a3a3d658ad'), ObjectId('67611223dde821a3a3d658ae'), ObjectId('67611223dde821a3a3d658af'), ObjectId('67611223dde821a3a3d658b0'), ObjectId('67611223dde821a3a3d658b1'), ObjectId('67611223dde821a3a3d658b2'), ObjectId('67611223dde821a3a3d658b3'), ObjectId('67611223dde821a3a3d658b4'), ObjectId('67611223dde821a3a3d658b5'), ObjectId('67611223dde821a3a3d658b6'), ObjectId('67611223dde821a3a3d658b7'), ObjectId('67611223dde821a3a3d658b8'), ObjectId('67611223dde821a3a3d658b9'), ObjectId('67611223dde821a3a3d658ba'), ObjectId('67611223dde821a3a3d658bb'), ObjectId('67611223dde821a3a3d658bc'), ObjectId('67611223dde821a3a3d658bd'), ObjectId('67611223dde821a3a3d658be'), ObjectId('67611223dde821a3a3d658bf'), ObjectId('67611223dde821a3a3d658c0'), ObjectId('67611223dde821a3a3d658c1'), ObjectId('67611223dde821a3a3d658c2'), ObjectId('67611223dde821a3a3d658c3'), ObjectId('67611223dde821a3a3d658c4'), ObjectId('67611223dde821a3a3d658c5'), ObjectId('67611223dde821a3a3d658c6'), ObjectId('67611223dde821a3a3d658c7'), ObjectId('67611223dde821a3a3d658c8'), ObjectId('67611223dde821a3a3d658c9'), ObjectId('67611223dde821a3a3d658ca'), ObjectId('67611223dde821a3a3d658cb'), ObjectId('67611223dde821a3a3d658cc'), ObjectId('67611223dde821a3a3d658cd'), ObjectId('67611223dde821a3a3d658ce'), ObjectId('67611223dde821a3a3d658cf'), ObjectId('67611223dde821a3a3d658d0'), ObjectId('67611223dde821a3a3d658d1'), ObjectId('67611223dde821a3a3d658d2'), ObjectId('67611223dde821a3a3d658d3'), ObjectId('67611223dde821a3a3d658d4'), ObjectId('67611223dde821a3a3d658d5'), ObjectId('67611223dde821a3a3d658d6'), ObjectId('67611223dde821a3a3d658d7'), ObjectId('67611223dde821a3a3d658d8'), ObjectId('67611223dde821a3a3d658d9'), ObjectId('67611223dde821a3a3d658da'), ObjectId('67611223dde821a3a3d658db'), ObjectId('67611223dde821a3a3d658dc'), ObjectId('67611223dde821a3a3d658dd'), ObjectId('67611223dde821a3a3d658de'), ObjectId('67611223dde821a3a3d658df'), ObjectId('67611223dde821a3a3d658e0'), ObjectId('67611223dde821a3a3d658e1'), ObjectId('67611223dde821a3a3d658e2'), ObjectId('67611223dde821a3a3d658e3'), ObjectId('67611223dde821a3a3d658e4'), ObjectId('67611223dde821a3a3d658e5'), ObjectId('67611223dde821a3a3d658e6'), ObjectId('67611223dde821a3a3d658e7'), ObjectId('67611223dde821a3a3d658e8'), ObjectId('67611223dde821a3a3d658e9'), ObjectId('67611223dde821a3a3d658ea'), ObjectId('67611223dde821a3a3d658eb'), ObjectId('67611223dde821a3a3d658ec'), ObjectId('67611223dde821a3a3d658ed'), ObjectId('67611223dde821a3a3d658ee'), ObjectId('67611223dde821a3a3d658ef'), ObjectId('67611223dde821a3a3d658f0'), ObjectId('67611223dde821a3a3d658f1'), ObjectId('67611223dde821a3a3d658f2'), ObjectId('67611223dde821a3a3d658f3'), ObjectId('67611223dde821a3a3d658f4'), ObjectId('67611223dde821a3a3d658f5'), ObjectId('67611223dde821a3a3d658f6'), ObjectId('67611223dde821a3a3d658f7'), ObjectId('67611223dde821a3a3d658f8'), ObjectId('67611223dde821a3a3d658f9'), ObjectId('67611223dde821a3a3d658fa'), ObjectId('67611223dde821a3a3d658fb'), ObjectId('67611223dde821a3a3d658fc'), ObjectId('67611223dde821a3a3d658fd'), ObjectId('67611223dde821a3a3d658fe'), ObjectId('67611223dde821a3a3d658ff'), ObjectId('67611223dde821a3a3d65900'), ObjectId('67611223dde821a3a3d65901'), ObjectId('67611223dde821a3a3d65902'), ObjectId('67611223dde821a3a3d65903'), ObjectId('67611223dde821a3a3d65904'), ObjectId('67611223dde821a3a3d65905'), ObjectId('67611223dde821a3a3d65906'), ObjectId('67611223dde821a3a3d65907'), ObjectId('67611223dde821a3a3d65908'), ObjectId('67611223dde821a3a3d65909'), ObjectId('67611223dde821a3a3d6590a'), ObjectId('67611223dde821a3a3d6590b'), ObjectId('67611223dde821a3a3d6590c'), ObjectId('67611223dde821a3a3d6590d'), ObjectId('67611223dde821a3a3d6590e'), ObjectId('67611223dde821a3a3d6590f'), ObjectId('67611223dde821a3a3d65910'), ObjectId('67611223dde821a3a3d65911'), ObjectId('67611223dde821a3a3d65912'), ObjectId('67611223dde821a3a3d65913'), ObjectId('67611223dde821a3a3d65914'), ObjectId('67611223dde821a3a3d65915'), ObjectId('67611223dde821a3a3d65916'), ObjectId('67611223dde821a3a3d65917'), ObjectId('67611223dde821a3a3d65918'), ObjectId('67611223dde821a3a3d65919'), ObjectId('67611223dde821a3a3d6591a'), ObjectId('67611223dde821a3a3d6591b'), ObjectId('67611223dde821a3a3d6591c'), ObjectId('67611223dde821a3a3d6591d'), ObjectId('67611223dde821a3a3d6591e'), ObjectId('67611223dde821a3a3d6591f'), ObjectId('67611223dde821a3a3d65920'), ObjectId('67611223dde821a3a3d65921'), ObjectId('67611223dde821a3a3d65922'), ObjectId('67611223dde821a3a3d65923'), ObjectId('67611223dde821a3a3d65924'), ObjectId('67611223dde821a3a3d65925'), ObjectId('67611223dde821a3a3d65926'), ObjectId('67611223dde821a3a3d65927'), ObjectId('67611223dde821a3a3d65928'), ObjectId('67611223dde821a3a3d65929'), ObjectId('67611223dde821a3a3d6592a'), ObjectId('67611223dde821a3a3d6592b'), ObjectId('67611223dde821a3a3d6592c'), ObjectId('67611223dde821a3a3d6592d'), ObjectId('67611223dde821a3a3d6592e'), ObjectId('67611223dde821a3a3d6592f'), ObjectId('67611223dde821a3a3d65930'), ObjectId('67611223dde821a3a3d65931'), ObjectId('67611223dde821a3a3d65932'), ObjectId('67611223dde821a3a3d65933'), ObjectId('67611223dde821a3a3d65934'), ObjectId('67611223dde821a3a3d65935'), ObjectId('67611223dde821a3a3d65936'), ObjectId('67611223dde821a3a3d65937'), ObjectId('67611223dde821a3a3d65938'), ObjectId('67611223dde821a3a3d65939'), ObjectId('67611223dde821a3a3d6593a'), ObjectId('67611223dde821a3a3d6593b'), ObjectId('67611223dde821a3a3d6593c'), ObjectId('67611223dde821a3a3d6593d'), ObjectId('67611223dde821a3a3d6593e'), ObjectId('67611223dde821a3a3d6593f'), ObjectId('67611223dde821a3a3d65940'), ObjectId('67611223dde821a3a3d65941'), ObjectId('67611223dde821a3a3d65942'), ObjectId('67611223dde821a3a3d65943'), ObjectId('67611223dde821a3a3d65944'), ObjectId('67611223dde821a3a3d65945'), ObjectId('67611223dde821a3a3d65946'), ObjectId('67611223dde821a3a3d65947'), ObjectId('67611223dde821a3a3d65948'), ObjectId('67611223dde821a3a3d65949'), ObjectId('67611223dde821a3a3d6594a'), ObjectId('67611223dde821a3a3d6594b'), ObjectId('67611223dde821a3a3d6594c'), ObjectId('67611223dde821a3a3d6594d'), ObjectId('67611223dde821a3a3d6594e'), ObjectId('67611223dde821a3a3d6594f'), ObjectId('67611223dde821a3a3d65950'), ObjectId('67611223dde821a3a3d65951'), ObjectId('67611223dde821a3a3d65952'), ObjectId('67611223dde821a3a3d65953'), ObjectId('67611223dde821a3a3d65954'), ObjectId('67611223dde821a3a3d65955'), ObjectId('67611223dde821a3a3d65956'), ObjectId('67611223dde821a3a3d65957'), ObjectId('67611223dde821a3a3d65958'), ObjectId('67611223dde821a3a3d65959'), ObjectId('67611223dde821a3a3d6595a'), ObjectId('67611223dde821a3a3d6595b'), ObjectId('67611223dde821a3a3d6595c'), ObjectId('67611223dde821a3a3d6595d'), ObjectId('67611223dde821a3a3d6595e'), ObjectId('67611223dde821a3a3d6595f'), ObjectId('67611223dde821a3a3d65960'), ObjectId('67611223dde821a3a3d65961'), ObjectId('67611223dde821a3a3d65962'), ObjectId('67611223dde821a3a3d65963'), ObjectId('67611223dde821a3a3d65964'), ObjectId('67611223dde821a3a3d65965'), ObjectId('67611223dde821a3a3d65966'), ObjectId('67611223dde821a3a3d65967'), ObjectId('67611223dde821a3a3d65968'), ObjectId('67611223dde821a3a3d65969'), ObjectId('67611223dde821a3a3d6596a'), ObjectId('67611223dde821a3a3d6596b'), ObjectId('67611223dde821a3a3d6596c'), ObjectId('67611223dde821a3a3d6596d'), ObjectId('67611223dde821a3a3d6596e'), ObjectId('67611223dde821a3a3d6596f'), ObjectId('67611223dde821a3a3d65970'), ObjectId('67611223dde821a3a3d65971'), ObjectId('67611223dde821a3a3d65972'), ObjectId('67611223dde821a3a3d65973'), ObjectId('67611223dde821a3a3d65974'), ObjectId('67611223dde821a3a3d65975'), ObjectId('67611223dde821a3a3d65976'), ObjectId('67611223dde821a3a3d65977'), ObjectId('67611223dde821a3a3d65978'), ObjectId('67611223dde821a3a3d65979'), ObjectId('67611223dde821a3a3d6597a'), ObjectId('67611223dde821a3a3d6597b'), ObjectId('67611223dde821a3a3d6597c'), ObjectId('67611223dde821a3a3d6597d'), ObjectId('67611223dde821a3a3d6597e'), ObjectId('67611223dde821a3a3d6597f'), ObjectId('67611223dde821a3a3d65980'), ObjectId('67611223dde821a3a3d65981'), ObjectId('67611223dde821a3a3d65982'), ObjectId('67611223dde821a3a3d65983'), ObjectId('67611223dde821a3a3d65984'), ObjectId('67611223dde821a3a3d65985'), ObjectId('67611223dde821a3a3d65986'), ObjectId('67611223dde821a3a3d65987'), ObjectId('67611223dde821a3a3d65988'), ObjectId('67611223dde821a3a3d65989'), ObjectId('67611223dde821a3a3d6598a'), ObjectId('67611223dde821a3a3d6598b'), ObjectId('67611223dde821a3a3d6598c'), ObjectId('67611223dde821a3a3d6598d'), ObjectId('67611223dde821a3a3d6598e'), ObjectId('67611223dde821a3a3d6598f'), ObjectId('67611223dde821a3a3d65990'), ObjectId('67611223dde821a3a3d65991'), ObjectId('67611223dde821a3a3d65992'), ObjectId('67611223dde821a3a3d65993'), ObjectId('67611223dde821a3a3d65994')], acknowledged=True)"
      ]
     },
     "execution_count": 18,
     "metadata": {},
     "output_type": "execute_result"
    }
   ],
   "source": [
    "from pymongo import MongoClient\n",
    "# 네트워크 연결 규칙 : protocol://ip:port/path \n",
    "client = MongoClient('mongodb://192.168.0.91:27017/')\n",
    "\n",
    "db_name = client[\"DB_TEST\"]\n",
    "col_target_name = db_name[\"COL_COMPARE_FEE\"]\n",
    "\n",
    "# df_data_without_id = df_data.drop(labels='_id', axis=1)\n",
    "data_insert = df_data.to_dict(orient=\"records\")\n",
    "col_target_name.insert_many(data_insert)"
   ]
  },
  {
   "cell_type": "code",
   "execution_count": 22,
   "metadata": {},
   "outputs": [
    {
     "name": "stdout",
     "output_type": "stream",
     "text": [
      "216\n"
     ]
    },
    {
     "data": {
      "text/html": [
       "<div>\n",
       "<style scoped>\n",
       "    .dataframe tbody tr th:only-of-type {\n",
       "        vertical-align: middle;\n",
       "    }\n",
       "\n",
       "    .dataframe tbody tr th {\n",
       "        vertical-align: top;\n",
       "    }\n",
       "\n",
       "    .dataframe thead th {\n",
       "        text-align: right;\n",
       "    }\n",
       "</style>\n",
       "<table border=\"1\" class=\"dataframe\">\n",
       "  <thead>\n",
       "    <tr style=\"text-align: right;\">\n",
       "      <th></th>\n",
       "      <th>_id</th>\n",
       "      <th>회사명</th>\n",
       "      <th>수수료\\n부과기준</th>\n",
       "      <th>기준일자</th>\n",
       "      <th>거래금액</th>\n",
       "      <th>구분</th>\n",
       "      <th>오프라인</th>\n",
       "      <th>HTS</th>\n",
       "      <th>ARS</th>\n",
       "      <th>스마트폰</th>\n",
       "      <th>오프라인.1</th>\n",
       "      <th>HTS.1</th>\n",
       "      <th>ARS.1</th>\n",
       "      <th>스마트폰.1</th>\n",
       "      <th>비고</th>\n",
       "    </tr>\n",
       "  </thead>\n",
       "  <tbody>\n",
       "    <tr>\n",
       "      <th>0</th>\n",
       "      <td>67611223dde821a3a3d658bd</td>\n",
       "      <td>DS투자증권</td>\n",
       "      <td>/img/sub/ico_hwp.gif</td>\n",
       "      <td>2021/01/01</td>\n",
       "      <td>100만원</td>\n",
       "      <td>변경후</td>\n",
       "      <td>4956.0</td>\n",
       "      <td>NaN</td>\n",
       "      <td>NaN</td>\n",
       "      <td>NaN</td>\n",
       "      <td>NaN</td>\n",
       "      <td>NaN</td>\n",
       "      <td>NaN</td>\n",
       "      <td>NaN</td>\n",
       "      <td>NaN</td>\n",
       "    </tr>\n",
       "    <tr>\n",
       "      <th>1</th>\n",
       "      <td>67611223dde821a3a3d658be</td>\n",
       "      <td>엘에스증권</td>\n",
       "      <td>/img/sub/ico_pdf.gif</td>\n",
       "      <td>2012/12/03</td>\n",
       "      <td>50만원</td>\n",
       "      <td>변경후</td>\n",
       "      <td>2400.0</td>\n",
       "      <td>75.0</td>\n",
       "      <td>500.0</td>\n",
       "      <td>75.0</td>\n",
       "      <td>1500.0</td>\n",
       "      <td>75.0</td>\n",
       "      <td>500.0</td>\n",
       "      <td>75.0</td>\n",
       "      <td>거래금액 5천만원 미만 : 0.48%\\n거래금액 5천~3억 미만 : 0.45%\\n거...</td>\n",
       "    </tr>\n",
       "    <tr>\n",
       "      <th>2</th>\n",
       "      <td>67611223dde821a3a3d658bf</td>\n",
       "      <td>케이프투자증권</td>\n",
       "      <td>/img/sub/ico_doc.gif</td>\n",
       "      <td>2015/04/20</td>\n",
       "      <td>100만원</td>\n",
       "      <td>변경후</td>\n",
       "      <td>6000.0</td>\n",
       "      <td>3000.0</td>\n",
       "      <td>NaN</td>\n",
       "      <td>900.0</td>\n",
       "      <td>6000.0</td>\n",
       "      <td>150.0</td>\n",
       "      <td>NaN</td>\n",
       "      <td>150.0</td>\n",
       "      <td>1. 고객등급 실버등급은 당일 종목당 매수/매도 매체별 합산 하여 50만원 미만시 ...</td>\n",
       "    </tr>\n",
       "    <tr>\n",
       "      <th>3</th>\n",
       "      <td>67611223dde821a3a3d658c0</td>\n",
       "      <td>유진투자증권</td>\n",
       "      <td>/img/sub/ico_xls.gif</td>\n",
       "      <td>2020/06/17</td>\n",
       "      <td>500만원</td>\n",
       "      <td>변경후</td>\n",
       "      <td>25000.0</td>\n",
       "      <td>7500.0</td>\n",
       "      <td>10000.0</td>\n",
       "      <td>7500.0</td>\n",
       "      <td>25000.0</td>\n",
       "      <td>750.0</td>\n",
       "      <td>10000.0</td>\n",
       "      <td>750.0</td>\n",
       "      <td>NaN</td>\n",
       "    </tr>\n",
       "    <tr>\n",
       "      <th>4</th>\n",
       "      <td>67611223dde821a3a3d658c1</td>\n",
       "      <td>비엔피파리바증권</td>\n",
       "      <td>/img/sub/ico_pdf.gif</td>\n",
       "      <td>2020/02/03</td>\n",
       "      <td>50만원</td>\n",
       "      <td>변경후</td>\n",
       "      <td>1500.0</td>\n",
       "      <td>NaN</td>\n",
       "      <td>NaN</td>\n",
       "      <td>NaN</td>\n",
       "      <td>NaN</td>\n",
       "      <td>NaN</td>\n",
       "      <td>NaN</td>\n",
       "      <td>NaN</td>\n",
       "      <td>NaN</td>\n",
       "    </tr>\n",
       "  </tbody>\n",
       "</table>\n",
       "</div>"
      ],
      "text/plain": [
       "                        _id       회사명             수수료\\n부과기준        기준일자  \\\n",
       "0  67611223dde821a3a3d658bd    DS투자증권  /img/sub/ico_hwp.gif  2021/01/01   \n",
       "1  67611223dde821a3a3d658be     엘에스증권  /img/sub/ico_pdf.gif  2012/12/03   \n",
       "2  67611223dde821a3a3d658bf   케이프투자증권  /img/sub/ico_doc.gif  2015/04/20   \n",
       "3  67611223dde821a3a3d658c0    유진투자증권  /img/sub/ico_xls.gif  2020/06/17   \n",
       "4  67611223dde821a3a3d658c1  비엔피파리바증권  /img/sub/ico_pdf.gif  2020/02/03   \n",
       "\n",
       "    거래금액   구분     오프라인     HTS      ARS    스마트폰   오프라인.1  HTS.1    ARS.1  \\\n",
       "0  100만원  변경후   4956.0     NaN      NaN     NaN      NaN    NaN      NaN   \n",
       "1   50만원  변경후   2400.0    75.0    500.0    75.0   1500.0   75.0    500.0   \n",
       "2  100만원  변경후   6000.0  3000.0      NaN   900.0   6000.0  150.0      NaN   \n",
       "3  500만원  변경후  25000.0  7500.0  10000.0  7500.0  25000.0  750.0  10000.0   \n",
       "4   50만원  변경후   1500.0     NaN      NaN     NaN      NaN    NaN      NaN   \n",
       "\n",
       "   스마트폰.1                                                 비고  \n",
       "0     NaN                                                NaN  \n",
       "1    75.0  거래금액 5천만원 미만 : 0.48%\\n거래금액 5천~3억 미만 : 0.45%\\n거...  \n",
       "2   150.0  1. 고객등급 실버등급은 당일 종목당 매수/매도 매체별 합산 하여 50만원 미만시 ...  \n",
       "3   750.0                                                NaN  \n",
       "4     NaN                                                NaN  "
      ]
     },
     "execution_count": 22,
     "metadata": {},
     "output_type": "execute_result"
    }
   ],
   "source": [
    "data_cursor = col_target_name.find({'구분' : '변경후'})\n",
    "data_list = list(data_cursor)\n",
    "print(len(data_list))\n",
    "df_comp_fee = pd.DataFrame(data_list)\n",
    "df_comp_fee.head()"
   ]
  },
  {
   "cell_type": "code",
   "execution_count": 49,
   "metadata": {},
   "outputs": [
    {
     "data": {
      "text/plain": [
       "17731.059210526317"
      ]
     },
     "execution_count": 49,
     "metadata": {},
     "output_type": "execute_result"
    }
   ],
   "source": [
    "total_mean = df_comp_fee[\"스마트폰.1\"].dropna().mean()\n",
    "total_mean"
   ]
  },
  {
   "cell_type": "code",
   "execution_count": 50,
   "metadata": {},
   "outputs": [
    {
     "name": "stdout",
     "output_type": "stream",
     "text": [
      "<class 'pandas.core.series.Series'>\n",
      "Index: 26 entries, DB금융투자 to 현대차증권\n",
      "Series name: 스마트폰.1\n",
      "Non-Null Count  Dtype  \n",
      "--------------  -----  \n",
      "26 non-null     float64\n",
      "dtypes: float64(1)\n",
      "memory usage: 416.0+ bytes\n"
     ]
    },
    {
     "data": {
      "text/plain": [
       "회사명\n",
       "DB금융투자      20904.166667\n",
       "IBK투자증권     19433.333333\n",
       "KB증권        23320.000000\n",
       "NH투자증권      38565.500000\n",
       "SK증권        24483.333333\n",
       "교보증권        29241.666667\n",
       "다올투자증권       2913.333333\n",
       "대신증권        38341.166667\n",
       "메리츠증권       19286.666667\n",
       "미래에셋증권       2720.666667\n",
       "부국증권        29066.666667\n",
       "비엔케이투자증권    29150.000000\n",
       "삼성증권        21250.333333\n",
       "상상인증권       27206.666667\n",
       "신영증권        19270.833333\n",
       "아이엠증권       19389.166667\n",
       "엘에스증권        2915.000000\n",
       "유안타증권       19433.333333\n",
       "유진투자증권       2915.000000\n",
       "케이프투자증권      2915.000000\n",
       "키움증권         2913.333333\n",
       "하나증권          466.000000\n",
       "한국투자증권       2731.000000\n",
       "한양증권        19433.333333\n",
       "한화투자증권      29150.000000\n",
       "현대차증권        3698.000000\n",
       "Name: 스마트폰.1, dtype: float64"
      ]
     },
     "execution_count": 50,
     "metadata": {},
     "output_type": "execute_result"
    }
   ],
   "source": [
    "df_mean = df_comp_fee.dropna(subset=[\"스마트폰.1\"]).groupby(by=\"회사명\")[\"스마트폰.1\"].mean()\n",
    "\n",
    "df_mean.info()\n",
    "df_mean"
   ]
  },
  {
   "cell_type": "code",
   "execution_count": 52,
   "metadata": {},
   "outputs": [],
   "source": [
    "df_mean_value = df_comp_fee.copy()\n",
    "df_mean_value['avg'] = df_comp_fee['회사명'].map(df_mean)\n",
    "df_fin = df_mean_value[['회사명','거래금액','스마트폰.1','avg']].sort_values(by=['회사명','거래금액','스마트폰.1','avg'],ascending=[True,True,True,True])"
   ]
  },
  {
   "cell_type": "code",
   "execution_count": 54,
   "metadata": {},
   "outputs": [],
   "source": [
    "df_fin[df_fin['avg'] <= total_mean].to_csv(\"../datasets/Q_Compare_fee.csv\")"
   ]
  }
 ],
 "metadata": {
  "kernelspec": {
   "display_name": "Python 3",
   "language": "python",
   "name": "python3"
  },
  "language_info": {
   "codemirror_mode": {
    "name": "ipython",
    "version": 3
   },
   "file_extension": ".py",
   "mimetype": "text/x-python",
   "name": "python",
   "nbconvert_exporter": "python",
   "pygments_lexer": "ipython3",
   "version": "3.11.11"
  }
 },
 "nbformat": 4,
 "nbformat_minor": 2
}
