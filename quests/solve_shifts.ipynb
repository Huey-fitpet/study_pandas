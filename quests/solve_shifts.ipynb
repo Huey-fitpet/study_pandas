{
 "cells": [
  {
   "cell_type": "markdown",
   "metadata": {},
   "source": [
    "데이터 준비\n",
    "연습 문제를 진행하려면 주식 또는 ETF의 가격 데이터가 필요합니다. Yahoo Finance API 또는 pandas_datareader 등을 이용하여 데이터를 다운로드하거나 가상 데이터를 생성하세요."
   ]
  },
  {
   "cell_type": "code",
   "execution_count": 5,
   "metadata": {},
   "outputs": [],
   "source": [
    "import matplotlib.pyplot as plt\n",
    "import matplotlib as mpl # 한글 폰트 설정 (NanumGothic) \n",
    "mpl.rcParams['font.family'] = 'NanumGothic'\n",
    "mpl.rcParams['axes.unicode_minus'] = False  # 마이너스 기호 깨짐 방지"
   ]
  },
  {
   "cell_type": "code",
   "execution_count": 4,
   "metadata": {},
   "outputs": [],
   "source": [
    "# api \n",
    "import FinanceDataReader as fdr\n",
    "import pandas as pd "
   ]
  },
  {
   "cell_type": "code",
   "execution_count": 7,
   "metadata": {},
   "outputs": [],
   "source": [
    "data_df = fdr.DataReader(symbol='AAPL', start='2020')"
   ]
  },
  {
   "cell_type": "markdown",
   "metadata": {},
   "source": [
    "연습 문제 1: 기본 통계 계산\n",
    "데이터프레임에 Close(종가) 열이 있다고 가정합니다.\n",
    "Close 열의 **평균(mean)**과 **중앙값(median)**을 계산하세요.\n",
    "평균값보다 큰 값의 개수와 중앙값보다 큰 값의 개수를 각각 출력하세요."
   ]
  },
  {
   "cell_type": "code",
   "execution_count": 10,
   "metadata": {},
   "outputs": [
    {
     "data": {
      "text/plain": [
       "<bound method NDFrame.describe of 2020-01-02     75.087502\n",
       "2020-01-03     74.357498\n",
       "2020-01-06     74.949997\n",
       "2020-01-07     74.597504\n",
       "2020-01-08     75.797501\n",
       "                 ...    \n",
       "2024-12-16    251.039993\n",
       "2024-12-17    253.479996\n",
       "2024-12-18    248.050003\n",
       "2024-12-19    249.789993\n",
       "2024-12-20    254.490005\n",
       "Name: Close, Length: 1252, dtype: float64>"
      ]
     },
     "execution_count": 10,
     "metadata": {},
     "output_type": "execute_result"
    }
   ],
   "source": [
    "data_df['Close'].describe"
   ]
  },
  {
   "cell_type": "code",
   "execution_count": 8,
   "metadata": {},
   "outputs": [
    {
     "data": {
      "text/plain": [
       "(153.62473639588768, 152.56000518798828, 615, 626)"
      ]
     },
     "execution_count": 8,
     "metadata": {},
     "output_type": "execute_result"
    }
   ],
   "source": [
    "mean = data_df['Close'].mean()\n",
    "median = data_df['Close'].median()\n",
    "above_mean = (data_df['Close'] > mean).sum()\n",
    "above_median = (data_df['Close'] > median).sum()\n",
    "mean, median, above_mean, above_median"
   ]
  },
  {
   "cell_type": "markdown",
   "metadata": {},
   "source": [
    "연습 문제 2: 이동 평균(rolling) 계산\n",
    "Close 열을 기준으로:\n",
    "7일 이동 평균(rolling mean)을 계산하여 새로운 열로 추가하세요.\n",
    "7일 이동 평균과 실제 종가의 차이를 계산하여 열로 추가하세요."
   ]
  },
  {
   "cell_type": "code",
   "execution_count": 12,
   "metadata": {},
   "outputs": [
    {
     "data": {
      "text/plain": [
       "2020-01-02         NaN\n",
       "2020-01-03         NaN\n",
       "2020-01-06         NaN\n",
       "2020-01-07         NaN\n",
       "2020-01-08         NaN\n",
       "                ...   \n",
       "2024-12-16   -3.757135\n",
       "2024-12-17   -4.677137\n",
       "2024-12-18    0.938570\n",
       "2024-12-19   -0.512850\n",
       "2024-12-20   -4.070005\n",
       "Name: avg-Close, Length: 1252, dtype: float64"
      ]
     },
     "execution_count": 12,
     "metadata": {},
     "output_type": "execute_result"
    }
   ],
   "source": [
    "data_df['rolling_mean'] = data_df['Close'].rolling(window=7).mean()\n",
    "data_df['avg-Close'] = data_df['rolling_mean'] - data_df['Close']\n",
    "data_df['avg-Close']"
   ]
  },
  {
   "cell_type": "markdown",
   "metadata": {},
   "source": [
    "연습 문제 3: 데이터 이동(shift)\n",
    "Close 열의 하루 전 가격을 Previous_Close라는 새로운 열로 추가하세요.\n",
    "Previous_Close와 Close 간의 차이를 계산하여 새로운 열 Daily_Change에 추가하세요."
   ]
  },
  {
   "cell_type": "code",
   "execution_count": 14,
   "metadata": {},
   "outputs": [
    {
     "data": {
      "text/plain": [
       "2020-01-02         NaN\n",
       "2020-01-03    0.730003\n",
       "2020-01-06   -0.592499\n",
       "2020-01-07    0.352493\n",
       "2020-01-08   -1.199997\n",
       "                ...   \n",
       "2024-12-16   -2.909988\n",
       "2024-12-17   -2.440002\n",
       "2024-12-18    5.429993\n",
       "2024-12-19   -1.739990\n",
       "2024-12-20   -4.700012\n",
       "Name: Daily_Change, Length: 1252, dtype: float64"
      ]
     },
     "execution_count": 14,
     "metadata": {},
     "output_type": "execute_result"
    }
   ],
   "source": [
    "data_df['Previous_Close'] = data_df['Close'].shift(periods=1)\n",
    "data_df['Daily_Change'] = data_df['Previous_Close'] - data_df['Close']\n",
    "data_df['Daily_Change']"
   ]
  },
  {
   "cell_type": "markdown",
   "metadata": {},
   "source": [
    "연습 문제 4: 수익과 수익률 최고/최저/중앙값 날짜 확인\n",
    "수익과 수익률(Daily_Change와 Daily_Change / Previous_Close * 100)을 계산하세요.\n",
    "수익과 수익률이 가장 높은 날과 가장 낮은 날의 날짜를 출력하세요.\n",
    "수익과 수익률의 중앙값이 발생한 날짜를 확인하세요."
   ]
  },
  {
   "cell_type": "markdown",
   "metadata": {},
   "source": [
    "연습 문제 5: 리샘플링(resample) - 월별 데이터\n",
    "일별 데이터를 기준으로:\n",
    "종가(Close)의 월별 평균을 계산하여 출력하세요.\n",
    "월별 데이터 중 최고값을 기록한 날짜를 확인하세요."
   ]
  },
  {
   "cell_type": "markdown",
   "metadata": {},
   "source": [
    "연습 문제 6: 52주 고점 및 저점\n",
    "최근 52주(1년) 동안의 High(최고가)와 Low(최저가)를 각각 계산하여 출력하세요.\n",
    "고점과 저점의 날짜를 확인하세요."
   ]
  },
  {
   "cell_type": "markdown",
   "metadata": {},
   "source": [
    "연습 문제 7: 배당 데이터 추가\n",
    "각 날짜에 가상 배당 데이터를 추가합니다(랜덤 생성 가능).\n",
    "배당 수익률(배당 / Close * 100)을 계산하여 열로 추가하세요.\n",
    "가장 높은 배당 수익률을 기록한 날짜를 확인하세요."
   ]
  },
  {
   "cell_type": "markdown",
   "metadata": {},
   "source": [
    "연습 문제 8: 데이터 이상치 탐지\n",
    "Close 열을 기준으로:\n",
    "이동 평균을 활용하여 이상치(이동 평균 대비 +2 표준편차를 초과하는 값)를 탐지하고 표시하세요.\n",
    "이상치가 발생한 날짜와 가격을 출력하세요."
   ]
  },
  {
   "cell_type": "markdown",
   "metadata": {},
   "source": [
    "연습 문제 9: 최근 5년간 배당률 높은 ETF 선정\n",
    "KRX 엑셀 활용 :  액티브ETF 실적 - 누적 분배금 참조\n",
    "최근 5년간 배당률이 높은 ETF 10개를 선정하세요.\n",
    "선정한 ETF의 배당률과 이름을 출력하세요."
   ]
  },
  {
   "cell_type": "markdown",
   "metadata": {},
   "source": [
    "연습 문제 10: 여러 종목 비교\n",
    "3개의 종목 데이터를 병합하여 각 종목의 Close 데이터만 포함한 데이터프레임을 생성하세요.\n",
    "각 종목의 수익률을 계산하고 비교하여, 매월 가장 높은 수익률을 기록한 종목과 해당 수익률을 출력하세요."
   ]
  },
  {
   "cell_type": "code",
   "execution_count": null,
   "metadata": {},
   "outputs": [],
   "source": []
  }
 ],
 "metadata": {
  "kernelspec": {
   "display_name": "Python 3",
   "language": "python",
   "name": "python3"
  },
  "language_info": {
   "codemirror_mode": {
    "name": "ipython",
    "version": 3
   },
   "file_extension": ".py",
   "mimetype": "text/x-python",
   "name": "python",
   "nbconvert_exporter": "python",
   "pygments_lexer": "ipython3",
   "version": "3.11.11"
  }
 },
 "nbformat": 4,
 "nbformat_minor": 2
}
