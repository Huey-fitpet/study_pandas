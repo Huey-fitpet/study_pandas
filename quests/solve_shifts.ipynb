{
 "cells": [
  {
   "cell_type": "markdown",
   "metadata": {},
   "source": [
    "데이터 준비\n",
    "연습 문제를 진행하려면 주식 또는 ETF의 가격 데이터가 필요합니다. Yahoo Finance API 또는 pandas_datareader 등을 이용하여 데이터를 다운로드하거나 가상 데이터를 생성하세요."
   ]
  },
  {
   "cell_type": "code",
   "execution_count": 14,
   "metadata": {},
   "outputs": [],
   "source": [
    "import matplotlib.pyplot as plt\n",
    "import matplotlib as mpl # 한글 폰트 설정 (NanumGothic) \n",
    "mpl.rcParams['font.family'] = 'NanumGothic'\n",
    "mpl.rcParams['axes.unicode_minus'] = False  # 마이너스 기호 깨짐 방지"
   ]
  },
  {
   "cell_type": "code",
   "execution_count": 15,
   "metadata": {},
   "outputs": [],
   "source": [
    "# api \n",
    "import FinanceDataReader as fdr\n",
    "import pandas as pd "
   ]
  },
  {
   "cell_type": "code",
   "execution_count": 16,
   "metadata": {},
   "outputs": [],
   "source": [
    "data_df = fdr.DataReader(symbol='AAPL', start='2020')"
   ]
  },
  {
   "cell_type": "markdown",
   "metadata": {},
   "source": [
    "연습 문제 1: 기본 통계 계산\n",
    "데이터프레임에 Close(종가) 열이 있다고 가정합니다.\n",
    "Close 열의 **평균(mean)**과 **중앙값(median)**을 계산하세요.\n",
    "평균값보다 큰 값의 개수와 중앙값보다 큰 값의 개수를 각각 출력하세요."
   ]
  },
  {
   "cell_type": "code",
   "execution_count": 17,
   "metadata": {},
   "outputs": [
    {
     "data": {
      "text/plain": [
       "<bound method NDFrame.describe of 2020-01-02     75.087502\n",
       "2020-01-03     74.357498\n",
       "2020-01-06     74.949997\n",
       "2020-01-07     74.597504\n",
       "2020-01-08     75.797501\n",
       "                 ...    \n",
       "2024-12-18    248.050003\n",
       "2024-12-19    249.789993\n",
       "2024-12-20    254.490005\n",
       "2024-12-23    255.270004\n",
       "2024-12-24    258.200012\n",
       "Name: Close, Length: 1254, dtype: float64>"
      ]
     },
     "execution_count": 17,
     "metadata": {},
     "output_type": "execute_result"
    }
   ],
   "source": [
    "data_df['Close'].describe"
   ]
  },
  {
   "cell_type": "code",
   "execution_count": 18,
   "metadata": {},
   "outputs": [
    {
     "data": {
      "text/plain": [
       "(153.789186590216, 152.5800018310547, 614, 627)"
      ]
     },
     "execution_count": 18,
     "metadata": {},
     "output_type": "execute_result"
    }
   ],
   "source": [
    "mean = data_df['Close'].mean()\n",
    "median = data_df['Close'].median()\n",
    "above_mean = (data_df['Close'] > mean).sum()\n",
    "above_median = (data_df['Close'] > median).sum()\n",
    "mean, median, above_mean, above_median"
   ]
  },
  {
   "cell_type": "markdown",
   "metadata": {},
   "source": [
    "연습 문제 2: 이동 평균(rolling) 계산\n",
    "Close 열을 기준으로:\n",
    "7일 이동 평균(rolling mean)을 계산하여 새로운 열로 추가하세요.\n",
    "7일 이동 평균과 실제 종가의 차이를 계산하여 열로 추가하세요."
   ]
  },
  {
   "cell_type": "code",
   "execution_count": 19,
   "metadata": {},
   "outputs": [
    {
     "data": {
      "text/plain": [
       "2020-01-02         NaN\n",
       "2020-01-03         NaN\n",
       "2020-01-06         NaN\n",
       "2020-01-07         NaN\n",
       "2020-01-08         NaN\n",
       "                ...   \n",
       "2024-12-18    0.938570\n",
       "2024-12-19   -0.512850\n",
       "2024-12-20   -4.070005\n",
       "2024-12-23   -3.805719\n",
       "2024-12-24   -5.297154\n",
       "Name: avg-Close, Length: 1254, dtype: float64"
      ]
     },
     "execution_count": 19,
     "metadata": {},
     "output_type": "execute_result"
    }
   ],
   "source": [
    "data_df['rolling_mean'] = data_df['Close'].rolling(window=7).mean()\n",
    "data_df['avg-Close'] = data_df['rolling_mean'] - data_df['Close']\n",
    "data_df['avg-Close']"
   ]
  },
  {
   "cell_type": "markdown",
   "metadata": {},
   "source": [
    "연습 문제 3: 데이터 이동(shift)\n",
    "Close 열의 하루 전 가격을 Previous_Close라는 새로운 열로 추가하세요.\n",
    "Previous_Close와 Close 간의 차이를 계산하여 새로운 열 Daily_Change에 추가하세요."
   ]
  },
  {
   "cell_type": "code",
   "execution_count": 20,
   "metadata": {},
   "outputs": [
    {
     "data": {
      "text/plain": [
       "2020-01-02         NaN\n",
       "2020-01-03    0.730003\n",
       "2020-01-06   -0.592499\n",
       "2020-01-07    0.352493\n",
       "2020-01-08   -1.199997\n",
       "                ...   \n",
       "2024-12-18    5.429993\n",
       "2024-12-19   -1.739990\n",
       "2024-12-20   -4.700012\n",
       "2024-12-23   -0.779999\n",
       "2024-12-24   -2.930008\n",
       "Name: Daily_Change, Length: 1254, dtype: float64"
      ]
     },
     "execution_count": 20,
     "metadata": {},
     "output_type": "execute_result"
    }
   ],
   "source": [
    "data_df['Previous_Close'] = data_df['Close'].shift(periods=1)\n",
    "data_df['Daily_Change'] = data_df['Previous_Close'] - data_df['Close']\n",
    "data_df['Daily_Change']"
   ]
  },
  {
   "cell_type": "markdown",
   "metadata": {},
   "source": [
    "연습 문제 4: 수익과 수익률 최고/최저/중앙값 날짜 확인\n",
    "수익과 수익률(Daily_Change와 Daily_Change / Previous_Close * 100)을 계산하세요.\n",
    "수익과 수익률이 가장 높은 날과 가장 낮은 날의 날짜를 출력하세요.\n",
    "수익과 수익률의 중앙값이 발생한 날짜를 확인하세요."
   ]
  },
  {
   "cell_type": "code",
   "execution_count": 21,
   "metadata": {},
   "outputs": [
    {
     "data": {
      "text/plain": [
       "2020-01-02         NaN\n",
       "2020-01-03    0.972204\n",
       "2020-01-06   -0.796825\n",
       "2020-01-07    0.470305\n",
       "2020-01-08   -1.608629\n",
       "                ...   \n",
       "2024-12-18    2.142178\n",
       "2024-12-19   -0.701468\n",
       "2024-12-20   -1.881585\n",
       "2024-12-23   -0.306495\n",
       "2024-12-24   -1.147807\n",
       "Name: Rate_Of_Return, Length: 1254, dtype: float64"
      ]
     },
     "execution_count": 21,
     "metadata": {},
     "output_type": "execute_result"
    }
   ],
   "source": [
    "data_df['Rate_Of_Return'] = (data_df['Daily_Change'] / data_df['Previous_Close']) * 100\n",
    "data_df['Rate_Of_Return']"
   ]
  },
  {
   "cell_type": "code",
   "execution_count": 22,
   "metadata": {},
   "outputs": [],
   "source": [
    "def get_value_index(series, value):\n",
    "    \"\"\"주어진 값과 가장 가까운 값의 인덱스를 반환\"\"\"\n",
    "    return (series - value).abs().idxmin()"
   ]
  },
  {
   "cell_type": "code",
   "execution_count": 23,
   "metadata": {},
   "outputs": [],
   "source": [
    "def get_stats(df, columns, stats):\n",
    "    \"\"\"\n",
    "    df: DataFrame\n",
    "    columns: list of column names to analyze\n",
    "    stats: dict of stat name and corresponding callable\n",
    "    \"\"\"\n",
    "    result = {}\n",
    "    for col in columns:\n",
    "        result.setdefault(col, {})\n",
    "        for stat_name, func in stats.items():\n",
    "            result[col][stat_name] = func(df[col])\n",
    "\n",
    "    return pd.DataFrame(result).T"
   ]
  },
  {
   "cell_type": "code",
   "execution_count": 24,
   "metadata": {},
   "outputs": [
    {
     "data": {
      "text/html": [
       "<div>\n",
       "<style scoped>\n",
       "    .dataframe tbody tr th:only-of-type {\n",
       "        vertical-align: middle;\n",
       "    }\n",
       "\n",
       "    .dataframe tbody tr th {\n",
       "        vertical-align: top;\n",
       "    }\n",
       "\n",
       "    .dataframe thead th {\n",
       "        text-align: right;\n",
       "    }\n",
       "</style>\n",
       "<table border=\"1\" class=\"dataframe\">\n",
       "  <thead>\n",
       "    <tr style=\"text-align: right;\">\n",
       "      <th></th>\n",
       "      <th>min</th>\n",
       "      <th>max</th>\n",
       "      <th>mean</th>\n",
       "      <th>median</th>\n",
       "    </tr>\n",
       "  </thead>\n",
       "  <tbody>\n",
       "    <tr>\n",
       "      <th>Rate_Of_Return</th>\n",
       "      <td>2020-03-13</td>\n",
       "      <td>2020-03-16</td>\n",
       "      <td>2024-09-27</td>\n",
       "      <td>2024-09-27</td>\n",
       "    </tr>\n",
       "    <tr>\n",
       "      <th>Daily_Change</th>\n",
       "      <td>2024-06-11</td>\n",
       "      <td>2024-08-05</td>\n",
       "      <td>2020-08-19</td>\n",
       "      <td>2020-09-15</td>\n",
       "    </tr>\n",
       "  </tbody>\n",
       "</table>\n",
       "</div>"
      ],
      "text/plain": [
       "                      min        max       mean     median\n",
       "Rate_Of_Return 2020-03-13 2020-03-16 2024-09-27 2024-09-27\n",
       "Daily_Change   2024-06-11 2024-08-05 2020-08-19 2020-09-15"
      ]
     },
     "execution_count": 24,
     "metadata": {},
     "output_type": "execute_result"
    }
   ],
   "source": [
    "\n",
    "columns = ['Rate_Of_Return', 'Close', 'Daily_Change', 'Previous_Close']\n",
    "columns = ['Rate_Of_Return',  'Daily_Change']\n",
    "stats = {\n",
    "    'min': lambda x: x.idxmin(),\n",
    "    'max': lambda x: x.idxmax(),\n",
    "    'mean': lambda x: get_value_index(x, x.mean()),\n",
    "    'median': lambda x: get_value_index(x, x.median())\n",
    "}\n",
    "result = get_stats(data_df, columns, stats)\n",
    "result"
   ]
  },
  {
   "cell_type": "markdown",
   "metadata": {},
   "source": [
    "연습 문제 5: 리샘플링(resample) - 월별 데이터\n",
    "일별 데이터를 기준으로:\n",
    "종가(Close)의 월별 평균을 계산하여 출력하세요.\n",
    "월별 데이터 중 최고값을 기록한 날짜를 확인하세요."
   ]
  },
  {
   "cell_type": "code",
   "execution_count": 25,
   "metadata": {},
   "outputs": [
    {
     "data": {
      "text/html": [
       "<div>\n",
       "<style scoped>\n",
       "    .dataframe tbody tr th:only-of-type {\n",
       "        vertical-align: middle;\n",
       "    }\n",
       "\n",
       "    .dataframe tbody tr th {\n",
       "        vertical-align: top;\n",
       "    }\n",
       "\n",
       "    .dataframe thead th {\n",
       "        text-align: right;\n",
       "    }\n",
       "</style>\n",
       "<table border=\"1\" class=\"dataframe\">\n",
       "  <thead>\n",
       "    <tr style=\"text-align: right;\">\n",
       "      <th></th>\n",
       "      <th>Close</th>\n",
       "    </tr>\n",
       "  </thead>\n",
       "  <tbody>\n",
       "    <tr>\n",
       "      <th>2020-01-01</th>\n",
       "      <td>77.979048</td>\n",
       "    </tr>\n",
       "    <tr>\n",
       "      <th>2020-02-01</th>\n",
       "      <td>77.817631</td>\n",
       "    </tr>\n",
       "    <tr>\n",
       "      <th>2020-03-01</th>\n",
       "      <td>65.611023</td>\n",
       "    </tr>\n",
       "    <tr>\n",
       "      <th>2020-04-01</th>\n",
       "      <td>68.096547</td>\n",
       "    </tr>\n",
       "    <tr>\n",
       "      <th>2020-05-01</th>\n",
       "      <td>77.496376</td>\n",
       "    </tr>\n",
       "  </tbody>\n",
       "</table>\n",
       "</div>"
      ],
      "text/plain": [
       "                Close\n",
       "2020-01-01  77.979048\n",
       "2020-02-01  77.817631\n",
       "2020-03-01  65.611023\n",
       "2020-04-01  68.096547\n",
       "2020-05-01  77.496376"
      ]
     },
     "execution_count": 25,
     "metadata": {},
     "output_type": "execute_result"
    }
   ],
   "source": [
    "how = {\n",
    "    'Close': 'mean'\n",
    "}\n",
    "resample_df = data_df.resample('MS').apply(how)\n",
    "resample_df.head()"
   ]
  },
  {
   "cell_type": "code",
   "execution_count": 26,
   "metadata": {},
   "outputs": [
    {
     "data": {
      "text/html": [
       "<div>\n",
       "<style scoped>\n",
       "    .dataframe tbody tr th:only-of-type {\n",
       "        vertical-align: middle;\n",
       "    }\n",
       "\n",
       "    .dataframe tbody tr th {\n",
       "        vertical-align: top;\n",
       "    }\n",
       "\n",
       "    .dataframe thead th {\n",
       "        text-align: right;\n",
       "    }\n",
       "</style>\n",
       "<table border=\"1\" class=\"dataframe\">\n",
       "  <thead>\n",
       "    <tr style=\"text-align: right;\">\n",
       "      <th></th>\n",
       "      <th>mean</th>\n",
       "    </tr>\n",
       "  </thead>\n",
       "  <tbody>\n",
       "    <tr>\n",
       "      <th>Close</th>\n",
       "      <td>2021-11-01</td>\n",
       "    </tr>\n",
       "  </tbody>\n",
       "</table>\n",
       "</div>"
      ],
      "text/plain": [
       "            mean\n",
       "Close 2021-11-01"
      ]
     },
     "execution_count": 26,
     "metadata": {},
     "output_type": "execute_result"
    }
   ],
   "source": [
    "\n",
    "columns = ['Close']\n",
    "stats = {\n",
    "    'mean': lambda x: get_value_index(x, x.mean())\n",
    "}\n",
    "result = get_stats(resample_df, columns, stats)\n",
    "result"
   ]
  },
  {
   "cell_type": "markdown",
   "metadata": {},
   "source": [
    "연습 문제 6: 52주 고점 및 저점\n",
    "최근 52주(1년) 동안의 High(최고가)와 Low(최저가)를 각각 계산하여 출력하세요.\n",
    "고점과 저점의 날짜를 확인하세요."
   ]
  },
  {
   "cell_type": "code",
   "execution_count": 27,
   "metadata": {},
   "outputs": [
    {
     "data": {
      "text/html": [
       "<div>\n",
       "<style scoped>\n",
       "    .dataframe tbody tr th:only-of-type {\n",
       "        vertical-align: middle;\n",
       "    }\n",
       "\n",
       "    .dataframe tbody tr th {\n",
       "        vertical-align: top;\n",
       "    }\n",
       "\n",
       "    .dataframe thead th {\n",
       "        text-align: right;\n",
       "    }\n",
       "</style>\n",
       "<table border=\"1\" class=\"dataframe\">\n",
       "  <thead>\n",
       "    <tr style=\"text-align: right;\">\n",
       "      <th></th>\n",
       "      <th>Close</th>\n",
       "    </tr>\n",
       "  </thead>\n",
       "  <tbody>\n",
       "    <tr>\n",
       "      <th>2020-01-01</th>\n",
       "      <td>77.979048</td>\n",
       "    </tr>\n",
       "    <tr>\n",
       "      <th>2020-02-01</th>\n",
       "      <td>77.817631</td>\n",
       "    </tr>\n",
       "    <tr>\n",
       "      <th>2020-03-01</th>\n",
       "      <td>65.611023</td>\n",
       "    </tr>\n",
       "    <tr>\n",
       "      <th>2020-04-01</th>\n",
       "      <td>68.096547</td>\n",
       "    </tr>\n",
       "    <tr>\n",
       "      <th>2020-05-01</th>\n",
       "      <td>77.496376</td>\n",
       "    </tr>\n",
       "  </tbody>\n",
       "</table>\n",
       "</div>"
      ],
      "text/plain": [
       "                Close\n",
       "2020-01-01  77.979048\n",
       "2020-02-01  77.817631\n",
       "2020-03-01  65.611023\n",
       "2020-04-01  68.096547\n",
       "2020-05-01  77.496376"
      ]
     },
     "execution_count": 27,
     "metadata": {},
     "output_type": "execute_result"
    }
   ],
   "source": [
    "how = {\n",
    "    'Close': 'mean'\n",
    "}\n",
    "resample_df = data_df.resample('MS').apply(how)\n",
    "resample_df.head()"
   ]
  },
  {
   "cell_type": "markdown",
   "metadata": {},
   "source": [
    "연습 문제 7: 배당 데이터 추가\n",
    "각 날짜에 가상 배당 데이터를 추가합니다(랜덤 생성 가능).\n",
    "배당 수익률(배당 / Close * 100)을 계산하여 열로 추가하세요.\n",
    "가장 높은 배당 수익률을 기록한 날짜를 확인하세요."
   ]
  },
  {
   "cell_type": "markdown",
   "metadata": {},
   "source": [
    "연습 문제 8: 데이터 이상치 탐지\n",
    "Close 열을 기준으로:\n",
    "이동 평균을 활용하여 이상치(이동 평균 대비 +2 표준편차를 초과하는 값)를 탐지하고 표시하세요.\n",
    "이상치가 발생한 날짜와 가격을 출력하세요."
   ]
  },
  {
   "cell_type": "markdown",
   "metadata": {},
   "source": [
    "연습 문제 9: 최근 5년간 배당률 높은 ETF 선정\n",
    "KRX 엑셀 활용 :  액티브ETF 실적 - 누적 분배금 참조\n",
    "최근 5년간 배당률이 높은 ETF 10개를 선정하세요.\n",
    "선정한 ETF의 배당률과 이름을 출력하세요."
   ]
  },
  {
   "cell_type": "markdown",
   "metadata": {},
   "source": [
    "연습 문제 10: 여러 종목 비교\n",
    "3개의 종목 데이터를 병합하여 각 종목의 Close 데이터만 포함한 데이터프레임을 생성하세요.\n",
    "각 종목의 수익률을 계산하고 비교하여, 매월 가장 높은 수익률을 기록한 종목과 해당 수익률을 출력하세요."
   ]
  },
  {
   "cell_type": "code",
   "execution_count": 32,
   "metadata": {},
   "outputs": [
    {
     "name": "stdout",
     "output_type": "stream",
     "text": [
      "<class 'pandas.core.frame.DataFrame'>\n",
      "DatetimeIndex: 1254 entries, 2020-01-02 to 2024-12-24\n",
      "Data columns (total 6 columns):\n",
      " #   Column     Non-Null Count  Dtype  \n",
      "---  ------     --------------  -----  \n",
      " 0   Open       1254 non-null   float64\n",
      " 1   High       1254 non-null   float64\n",
      " 2   Low        1254 non-null   float64\n",
      " 3   Close      1254 non-null   float64\n",
      " 4   Volume     1254 non-null   int64  \n",
      " 5   Adj Close  1254 non-null   float64\n",
      "dtypes: float64(5), int64(1)\n",
      "memory usage: 68.6 KB\n",
      "<class 'pandas.core.frame.DataFrame'>\n",
      "DatetimeIndex: 1254 entries, 2020-01-02 to 2024-12-24\n",
      "Data columns (total 6 columns):\n",
      " #   Column     Non-Null Count  Dtype  \n",
      "---  ------     --------------  -----  \n",
      " 0   Open       1254 non-null   float64\n",
      " 1   High       1254 non-null   float64\n",
      " 2   Low        1254 non-null   float64\n",
      " 3   Close      1254 non-null   float64\n",
      " 4   Volume     1254 non-null   int64  \n",
      " 5   Adj Close  1254 non-null   float64\n",
      "dtypes: float64(5), int64(1)\n",
      "memory usage: 68.6 KB\n",
      "<class 'pandas.core.frame.DataFrame'>\n",
      "DatetimeIndex: 1254 entries, 2020-01-02 to 2024-12-24\n",
      "Data columns (total 6 columns):\n",
      " #   Column     Non-Null Count  Dtype  \n",
      "---  ------     --------------  -----  \n",
      " 0   Open       1254 non-null   float64\n",
      " 1   High       1254 non-null   float64\n",
      " 2   Low        1254 non-null   float64\n",
      " 3   Close      1254 non-null   float64\n",
      " 4   Volume     1254 non-null   int64  \n",
      " 5   Adj Close  1254 non-null   float64\n",
      "dtypes: float64(5), int64(1)\n",
      "memory usage: 68.6 KB\n"
     ]
    },
    {
     "data": {
      "text/html": [
       "<div>\n",
       "<style scoped>\n",
       "    .dataframe tbody tr th:only-of-type {\n",
       "        vertical-align: middle;\n",
       "    }\n",
       "\n",
       "    .dataframe tbody tr th {\n",
       "        vertical-align: top;\n",
       "    }\n",
       "\n",
       "    .dataframe thead th {\n",
       "        text-align: right;\n",
       "    }\n",
       "</style>\n",
       "<table border=\"1\" class=\"dataframe\">\n",
       "  <thead>\n",
       "    <tr style=\"text-align: right;\">\n",
       "      <th></th>\n",
       "      <th>KO</th>\n",
       "      <th>AAPL</th>\n",
       "      <th>ALK</th>\n",
       "    </tr>\n",
       "  </thead>\n",
       "  <tbody>\n",
       "    <tr>\n",
       "      <th>2020-01-02</th>\n",
       "      <td>54.990002</td>\n",
       "      <td>75.087502</td>\n",
       "      <td>68.169998</td>\n",
       "    </tr>\n",
       "    <tr>\n",
       "      <th>2020-01-03</th>\n",
       "      <td>54.689999</td>\n",
       "      <td>74.357498</td>\n",
       "      <td>66.919998</td>\n",
       "    </tr>\n",
       "    <tr>\n",
       "      <th>2020-01-06</th>\n",
       "      <td>54.669998</td>\n",
       "      <td>74.949997</td>\n",
       "      <td>66.599998</td>\n",
       "    </tr>\n",
       "    <tr>\n",
       "      <th>2020-01-07</th>\n",
       "      <td>54.250000</td>\n",
       "      <td>74.597504</td>\n",
       "      <td>66.180000</td>\n",
       "    </tr>\n",
       "    <tr>\n",
       "      <th>2020-01-08</th>\n",
       "      <td>54.349998</td>\n",
       "      <td>75.797501</td>\n",
       "      <td>66.500000</td>\n",
       "    </tr>\n",
       "  </tbody>\n",
       "</table>\n",
       "</div>"
      ],
      "text/plain": [
       "                   KO       AAPL        ALK\n",
       "2020-01-02  54.990002  75.087502  68.169998\n",
       "2020-01-03  54.689999  74.357498  66.919998\n",
       "2020-01-06  54.669998  74.949997  66.599998\n",
       "2020-01-07  54.250000  74.597504  66.180000\n",
       "2020-01-08  54.349998  75.797501  66.500000"
      ]
     },
     "execution_count": 32,
     "metadata": {},
     "output_type": "execute_result"
    }
   ],
   "source": [
    "ticker_name_list = [ # 3 개 KO cocacola, AAPL apple , Alaska Air Group, Inc. (ALK)\n",
    "    'KO',\n",
    "    'AAPL',\n",
    "    'ALK'\n",
    "]\n",
    "\n",
    "start_date_str = '2016'\n",
    "end_date_str = '2019'\n",
    "\n",
    "# data_df_list = []\n",
    "data_df = pd.DataFrame()\n",
    "for symbol in ticker_name_list:\n",
    "    df = fdr.DataReader(symbol, '2020')\n",
    "    # data_df_list.append(df)  \n",
    "    data_df[f'{symbol}'] = df['Close']\n",
    "    df.info()\n",
    "\n",
    "# data_df_list[1].head()\n",
    "data_df.head()"
   ]
  },
  {
   "cell_type": "code",
   "execution_count": null,
   "metadata": {},
   "outputs": [],
   "source": [
    "for symbol in ticker_name_list:\n",
    "    data_df[f'{symbol}_Previous_Close'] = data_df[f'{symbol}'].shift(periods=1)\n",
    "    data_df[f'{symbol}_Daily_Change'] = data_df[f'{symbol}_Previous_Close'] - data_df[f'{symbol}']\n",
    "    data_df[f'{symbol}_Daily_Change']"
   ]
  },
  {
   "cell_type": "code",
   "execution_count": null,
   "metadata": {},
   "outputs": [],
   "source": [
    "data_df['Rate_Of_Return'] = (data_df['Daily_Change'] / data_df['Previous_Close']) * 100\n",
    "data_df['Rate_Of_Return']"
   ]
  }
 ],
 "metadata": {
  "kernelspec": {
   "display_name": "Python 3",
   "language": "python",
   "name": "python3"
  },
  "language_info": {
   "codemirror_mode": {
    "name": "ipython",
    "version": 3
   },
   "file_extension": ".py",
   "mimetype": "text/x-python",
   "name": "python",
   "nbconvert_exporter": "python",
   "pygments_lexer": "ipython3",
   "version": "3.11.11"
  }
 },
 "nbformat": 4,
 "nbformat_minor": 2
}
